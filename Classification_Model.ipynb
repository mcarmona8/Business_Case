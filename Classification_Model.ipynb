{
  "nbformat": 4,
  "nbformat_minor": 0,
  "metadata": {
    "colab": {
      "provenance": [],
      "authorship_tag": "ABX9TyM9w905T84PywQQK6e1P0jo",
      "include_colab_link": true
    },
    "kernelspec": {
      "name": "python3",
      "display_name": "Python 3"
    },
    "language_info": {
      "name": "python"
    }
  },
  "cells": [
    {
      "cell_type": "markdown",
      "metadata": {
        "id": "view-in-github",
        "colab_type": "text"
      },
      "source": [
        "<a href=\"https://colab.research.google.com/github/mcarmona8/Business_Case/blob/main/Classification_Model.ipynb\" target=\"_parent\"><img src=\"https://colab.research.google.com/assets/colab-badge.svg\" alt=\"Open In Colab\"/></a>"
      ]
    },
    {
      "cell_type": "markdown",
      "source": [
        "**Business Case Accenture**"
      ],
      "metadata": {
        "id": "Swu8CjfGETpK"
      }
    },
    {
      "cell_type": "code",
      "execution_count": 1,
      "metadata": {
        "id": "JFo2a-Q7ETD_"
      },
      "outputs": [],
      "source": [
        "import pandas as pd\n",
        "import numpy as np\n",
        "from sklearn.preprocessing import LabelEncoder\n",
        "import matplotlib.pyplot as plt\n",
        "import seaborn as sns\n",
        "import scipy.stats as ss"
      ]
    },
    {
      "cell_type": "markdown",
      "source": [
        "**Reading Files**"
      ],
      "metadata": {
        "id": "HqNm3yNKyt72"
      }
    },
    {
      "cell_type": "code",
      "source": [
        "\n",
        "\n",
        "filename_='analytics-case-study-data.csv'\n",
        "original_df = pd.read_csv(filename_)  # Replace with your file path\n",
        "original_df.count()\n"
      ],
      "metadata": {
        "colab": {
          "base_uri": "https://localhost:8080/",
          "height": 523
        },
        "id": "fyyiefnHEiQT",
        "outputId": "61563528-1bbb-43ed-a9c7-9c4b52162400"
      },
      "execution_count": 2,
      "outputs": [
        {
          "output_type": "execute_result",
          "data": {
            "text/plain": [
              "Campaign ID          1000\n",
              "Campaign Name        1000\n",
              "Prospect Status      1000\n",
              "Account ID           1000\n",
              "Account Name         1000\n",
              "domain               1000\n",
              "Country              1000\n",
              "Prospect ID          1000\n",
              "Opt-In                986\n",
              "Opt-In Source         875\n",
              "Opt-In Timestamp      954\n",
              "Opt-Out Timestamp      32\n",
              "Job Title            1000\n",
              "Prospect Source      1000\n",
              "dtype: int64"
            ],
            "text/html": [
              "<div>\n",
              "<style scoped>\n",
              "    .dataframe tbody tr th:only-of-type {\n",
              "        vertical-align: middle;\n",
              "    }\n",
              "\n",
              "    .dataframe tbody tr th {\n",
              "        vertical-align: top;\n",
              "    }\n",
              "\n",
              "    .dataframe thead th {\n",
              "        text-align: right;\n",
              "    }\n",
              "</style>\n",
              "<table border=\"1\" class=\"dataframe\">\n",
              "  <thead>\n",
              "    <tr style=\"text-align: right;\">\n",
              "      <th></th>\n",
              "      <th>0</th>\n",
              "    </tr>\n",
              "  </thead>\n",
              "  <tbody>\n",
              "    <tr>\n",
              "      <th>Campaign ID</th>\n",
              "      <td>1000</td>\n",
              "    </tr>\n",
              "    <tr>\n",
              "      <th>Campaign Name</th>\n",
              "      <td>1000</td>\n",
              "    </tr>\n",
              "    <tr>\n",
              "      <th>Prospect Status</th>\n",
              "      <td>1000</td>\n",
              "    </tr>\n",
              "    <tr>\n",
              "      <th>Account ID</th>\n",
              "      <td>1000</td>\n",
              "    </tr>\n",
              "    <tr>\n",
              "      <th>Account Name</th>\n",
              "      <td>1000</td>\n",
              "    </tr>\n",
              "    <tr>\n",
              "      <th>domain</th>\n",
              "      <td>1000</td>\n",
              "    </tr>\n",
              "    <tr>\n",
              "      <th>Country</th>\n",
              "      <td>1000</td>\n",
              "    </tr>\n",
              "    <tr>\n",
              "      <th>Prospect ID</th>\n",
              "      <td>1000</td>\n",
              "    </tr>\n",
              "    <tr>\n",
              "      <th>Opt-In</th>\n",
              "      <td>986</td>\n",
              "    </tr>\n",
              "    <tr>\n",
              "      <th>Opt-In Source</th>\n",
              "      <td>875</td>\n",
              "    </tr>\n",
              "    <tr>\n",
              "      <th>Opt-In Timestamp</th>\n",
              "      <td>954</td>\n",
              "    </tr>\n",
              "    <tr>\n",
              "      <th>Opt-Out Timestamp</th>\n",
              "      <td>32</td>\n",
              "    </tr>\n",
              "    <tr>\n",
              "      <th>Job Title</th>\n",
              "      <td>1000</td>\n",
              "    </tr>\n",
              "    <tr>\n",
              "      <th>Prospect Source</th>\n",
              "      <td>1000</td>\n",
              "    </tr>\n",
              "  </tbody>\n",
              "</table>\n",
              "</div><br><label><b>dtype:</b> int64</label>"
            ]
          },
          "metadata": {},
          "execution_count": 2
        }
      ]
    },
    {
      "cell_type": "markdown",
      "source": [
        "**Converting Dates**"
      ],
      "metadata": {
        "id": "3c29EvstypF0"
      }
    },
    {
      "cell_type": "code",
      "source": [
        "\n",
        "df_cleaned = original_df.copy()\n",
        "#df_cleaned = df_cleaned.dropna(subset=[\"Opt-In Timestamp\"])\n",
        "df_cleaned[\"Opt-In Timestamp\"] = pd.to_datetime(df_cleaned[\"Opt-In Timestamp\"], errors=\"coerce\")\n",
        "# Fixing Dates > 2024. This is an assumption\n",
        "df_cleaned[\"Opt-In Timestamp\"] = df_cleaned[\"Opt-In Timestamp\"].apply(lambda x: x.replace(year=2023) if x.year > 2023 else x)\n",
        "df_cleaned"
      ],
      "metadata": {
        "colab": {
          "base_uri": "https://localhost:8080/",
          "height": 812
        },
        "id": "JPKYDmhlJp5V",
        "outputId": "4ffeb9fb-144e-4c86-83cb-5fd6f94694ee"
      },
      "execution_count": 3,
      "outputs": [
        {
          "output_type": "stream",
          "name": "stderr",
          "text": [
            "<ipython-input-3-171edaac97d9>:3: UserWarning: Could not infer format, so each element will be parsed individually, falling back to `dateutil`. To ensure parsing is consistent and as-expected, please specify a format.\n",
            "  df_cleaned[\"Opt-In Timestamp\"] = pd.to_datetime(df_cleaned[\"Opt-In Timestamp\"], errors=\"coerce\")\n",
            "/usr/local/lib/python3.11/dist-packages/google/colab/_dataframe_summarizer.py:88: UserWarning: Could not infer format, so each element will be parsed individually, falling back to `dateutil`. To ensure parsing is consistent and as-expected, please specify a format.\n",
            "  cast_date_col = pd.to_datetime(column, errors=\"coerce\")\n"
          ]
        },
        {
          "output_type": "execute_result",
          "data": {
            "text/plain": [
              "                                       Campaign ID            Campaign Name  \\\n",
              "0    FY23-Q3-global-PROD461-valentines_day_special  Valentine's Day Special   \n",
              "1    FY23-Q3-global-PROD461-annual_clearance_event   Annual Clearance Event   \n",
              "2        FY23-Q3-global-PROD461-spring_flower_sale       Spring Flower Sale   \n",
              "3         FY23-Q3-global-PROD461-spring_break_sale        Spring Break Sale   \n",
              "4        FY23-Q3-global-PROD461-spring_flower_sale       Spring Flower Sale   \n",
              "..                                             ...                      ...   \n",
              "995       FY23-Q3-global-PROD461-cyber_monday_sale        Cyber Monday Sale   \n",
              "996    FY23-Q3-global-PROD461-cyber_monday_blowout     Cyber Monday Blowout   \n",
              "997       FY23-Q3-global-PROD461-fall_into_savings        Fall Into Savings   \n",
              "998    FY23-Q3-global-PROD461-cyber_monday_blowout     Cyber Monday Blowout   \n",
              "999       FY23-Q3-global-PROD461-fall_fashion_sale        Fall Fashion Sale   \n",
              "\n",
              "    Prospect Status          Account ID       Account Name  \\\n",
              "0           No Show  0014M0000mXuCYxQAN  Alpha Innovations   \n",
              "1         Responded  0014M0000mXuCYxQAN  Alpha Innovations   \n",
              "2           No Show  0014M0000mXuCYxQAN  Alpha Innovations   \n",
              "3           No Show  0014M0000mXuCYxQAN  Alpha Innovations   \n",
              "4           No Show  0014M0000mXuCYxQAN  Alpha Innovations   \n",
              "..              ...                 ...                ...   \n",
              "995        Attended  0014M0000Ri9Qe6QAF   Zenith Solutions   \n",
              "996         No Show  0014M0000Ri9Qe6QAF   Zenith Solutions   \n",
              "997         No Show  0014M0000Ri9Qe6QAF   Zenith Solutions   \n",
              "998         No Show  0014M0000Ri9Qe6QAF   Zenith Solutions   \n",
              "999         No Show  0014M0000Ri9Qe6QAF   Zenith Solutions   \n",
              "\n",
              "                  domain Country         Prospect ID Opt-In  \\\n",
              "0         alphainnov.biz   Italy  0034M0000qUkSoNQAV    Yes   \n",
              "1         alphainnov.biz   Italy  0034M0000HOb6cnQAD    Yes   \n",
              "2         alphainnov.biz   Italy  0034M0000rRLR2bQAX    Yes   \n",
              "3         alphainnov.biz   Italy  0034M0000hRZsn9QAD    Yes   \n",
              "4         alphainnov.biz   Italy  0034M0000pVvfBmQAJ    Yes   \n",
              "..                   ...     ...                 ...    ...   \n",
              "995  zenithsolutions.net   China  0034M0000pp1pUeQAI    Yes   \n",
              "996  zenithsolutions.net   China  0034M0000qcA3rMQAV    Yes   \n",
              "997  zenithsolutions.net   China  0034M0000qVJd4KQAZ    Yes   \n",
              "998  zenithsolutions.net   China  0034M0000o1vNNiQAM    Yes   \n",
              "999  zenithsolutions.net   China  0034M0000kZbWYKQA1    Yes   \n",
              "\n",
              "             Opt-In Source    Opt-In Timestamp Opt-Out Timestamp  \\\n",
              "0          online purchase 2023-06-23 06:11:00               NaN   \n",
              "1    social media campaign                 NaT     11/26/23 6:11   \n",
              "2         referral program                 NaT      7/21/23 6:11   \n",
              "3       event registration                 NaT      7/11/23 6:11   \n",
              "4       event registration                 NaT     11/26/23 6:11   \n",
              "..                     ...                 ...               ...   \n",
              "995                    NaN 2023-05-02 06:11:00               NaN   \n",
              "996                    NaN 2023-02-11 06:11:00               NaN   \n",
              "997       referral program 2023-06-15 06:11:00               NaN   \n",
              "998  social media campaign 2023-08-10 06:11:00               NaN   \n",
              "999                    NaN 2023-02-05 06:11:00               NaN   \n",
              "\n",
              "                                             Job Title Prospect Source  \n",
              "0                     Senior Managed Care Social Media   Advertisement  \n",
              "1                                       SENIOR ANALYST      Trade Show  \n",
              "2             Data- Bij DE Gemeente Leeuwarden Analyst        Referral  \n",
              "3                                         Data Analyst      Trade Show  \n",
              "4                  Data Scientist / Analyst / Engineer   Advertisement  \n",
              "..                                                 ...             ...  \n",
              "995                                     Senior Analyst   Advertisement  \n",
              "996                                IT Business Analyst   Advertisement  \n",
              "997           Systems Operations Analyst II (Americas)   Advertisement  \n",
              "998        Tools & Technology Lead Senior Data Analyst   Advertisement  \n",
              "999  Business Analyst & Project Manager, Informatio...   Advertisement  \n",
              "\n",
              "[1000 rows x 14 columns]"
            ],
            "text/html": [
              "\n",
              "  <div id=\"df-6db3df65-8d25-45a7-a293-11b6ed659d71\" class=\"colab-df-container\">\n",
              "    <div>\n",
              "<style scoped>\n",
              "    .dataframe tbody tr th:only-of-type {\n",
              "        vertical-align: middle;\n",
              "    }\n",
              "\n",
              "    .dataframe tbody tr th {\n",
              "        vertical-align: top;\n",
              "    }\n",
              "\n",
              "    .dataframe thead th {\n",
              "        text-align: right;\n",
              "    }\n",
              "</style>\n",
              "<table border=\"1\" class=\"dataframe\">\n",
              "  <thead>\n",
              "    <tr style=\"text-align: right;\">\n",
              "      <th></th>\n",
              "      <th>Campaign ID</th>\n",
              "      <th>Campaign Name</th>\n",
              "      <th>Prospect Status</th>\n",
              "      <th>Account ID</th>\n",
              "      <th>Account Name</th>\n",
              "      <th>domain</th>\n",
              "      <th>Country</th>\n",
              "      <th>Prospect ID</th>\n",
              "      <th>Opt-In</th>\n",
              "      <th>Opt-In Source</th>\n",
              "      <th>Opt-In Timestamp</th>\n",
              "      <th>Opt-Out Timestamp</th>\n",
              "      <th>Job Title</th>\n",
              "      <th>Prospect Source</th>\n",
              "    </tr>\n",
              "  </thead>\n",
              "  <tbody>\n",
              "    <tr>\n",
              "      <th>0</th>\n",
              "      <td>FY23-Q3-global-PROD461-valentines_day_special</td>\n",
              "      <td>Valentine's Day Special</td>\n",
              "      <td>No Show</td>\n",
              "      <td>0014M0000mXuCYxQAN</td>\n",
              "      <td>Alpha Innovations</td>\n",
              "      <td>alphainnov.biz</td>\n",
              "      <td>Italy</td>\n",
              "      <td>0034M0000qUkSoNQAV</td>\n",
              "      <td>Yes</td>\n",
              "      <td>online purchase</td>\n",
              "      <td>2023-06-23 06:11:00</td>\n",
              "      <td>NaN</td>\n",
              "      <td>Senior Managed Care Social Media</td>\n",
              "      <td>Advertisement</td>\n",
              "    </tr>\n",
              "    <tr>\n",
              "      <th>1</th>\n",
              "      <td>FY23-Q3-global-PROD461-annual_clearance_event</td>\n",
              "      <td>Annual Clearance Event</td>\n",
              "      <td>Responded</td>\n",
              "      <td>0014M0000mXuCYxQAN</td>\n",
              "      <td>Alpha Innovations</td>\n",
              "      <td>alphainnov.biz</td>\n",
              "      <td>Italy</td>\n",
              "      <td>0034M0000HOb6cnQAD</td>\n",
              "      <td>Yes</td>\n",
              "      <td>social media campaign</td>\n",
              "      <td>NaT</td>\n",
              "      <td>11/26/23 6:11</td>\n",
              "      <td>SENIOR ANALYST</td>\n",
              "      <td>Trade Show</td>\n",
              "    </tr>\n",
              "    <tr>\n",
              "      <th>2</th>\n",
              "      <td>FY23-Q3-global-PROD461-spring_flower_sale</td>\n",
              "      <td>Spring Flower Sale</td>\n",
              "      <td>No Show</td>\n",
              "      <td>0014M0000mXuCYxQAN</td>\n",
              "      <td>Alpha Innovations</td>\n",
              "      <td>alphainnov.biz</td>\n",
              "      <td>Italy</td>\n",
              "      <td>0034M0000rRLR2bQAX</td>\n",
              "      <td>Yes</td>\n",
              "      <td>referral program</td>\n",
              "      <td>NaT</td>\n",
              "      <td>7/21/23 6:11</td>\n",
              "      <td>Data- Bij DE Gemeente Leeuwarden Analyst</td>\n",
              "      <td>Referral</td>\n",
              "    </tr>\n",
              "    <tr>\n",
              "      <th>3</th>\n",
              "      <td>FY23-Q3-global-PROD461-spring_break_sale</td>\n",
              "      <td>Spring Break Sale</td>\n",
              "      <td>No Show</td>\n",
              "      <td>0014M0000mXuCYxQAN</td>\n",
              "      <td>Alpha Innovations</td>\n",
              "      <td>alphainnov.biz</td>\n",
              "      <td>Italy</td>\n",
              "      <td>0034M0000hRZsn9QAD</td>\n",
              "      <td>Yes</td>\n",
              "      <td>event registration</td>\n",
              "      <td>NaT</td>\n",
              "      <td>7/11/23 6:11</td>\n",
              "      <td>Data Analyst</td>\n",
              "      <td>Trade Show</td>\n",
              "    </tr>\n",
              "    <tr>\n",
              "      <th>4</th>\n",
              "      <td>FY23-Q3-global-PROD461-spring_flower_sale</td>\n",
              "      <td>Spring Flower Sale</td>\n",
              "      <td>No Show</td>\n",
              "      <td>0014M0000mXuCYxQAN</td>\n",
              "      <td>Alpha Innovations</td>\n",
              "      <td>alphainnov.biz</td>\n",
              "      <td>Italy</td>\n",
              "      <td>0034M0000pVvfBmQAJ</td>\n",
              "      <td>Yes</td>\n",
              "      <td>event registration</td>\n",
              "      <td>NaT</td>\n",
              "      <td>11/26/23 6:11</td>\n",
              "      <td>Data Scientist / Analyst / Engineer</td>\n",
              "      <td>Advertisement</td>\n",
              "    </tr>\n",
              "    <tr>\n",
              "      <th>...</th>\n",
              "      <td>...</td>\n",
              "      <td>...</td>\n",
              "      <td>...</td>\n",
              "      <td>...</td>\n",
              "      <td>...</td>\n",
              "      <td>...</td>\n",
              "      <td>...</td>\n",
              "      <td>...</td>\n",
              "      <td>...</td>\n",
              "      <td>...</td>\n",
              "      <td>...</td>\n",
              "      <td>...</td>\n",
              "      <td>...</td>\n",
              "      <td>...</td>\n",
              "    </tr>\n",
              "    <tr>\n",
              "      <th>995</th>\n",
              "      <td>FY23-Q3-global-PROD461-cyber_monday_sale</td>\n",
              "      <td>Cyber Monday Sale</td>\n",
              "      <td>Attended</td>\n",
              "      <td>0014M0000Ri9Qe6QAF</td>\n",
              "      <td>Zenith Solutions</td>\n",
              "      <td>zenithsolutions.net</td>\n",
              "      <td>China</td>\n",
              "      <td>0034M0000pp1pUeQAI</td>\n",
              "      <td>Yes</td>\n",
              "      <td>NaN</td>\n",
              "      <td>2023-05-02 06:11:00</td>\n",
              "      <td>NaN</td>\n",
              "      <td>Senior Analyst</td>\n",
              "      <td>Advertisement</td>\n",
              "    </tr>\n",
              "    <tr>\n",
              "      <th>996</th>\n",
              "      <td>FY23-Q3-global-PROD461-cyber_monday_blowout</td>\n",
              "      <td>Cyber Monday Blowout</td>\n",
              "      <td>No Show</td>\n",
              "      <td>0014M0000Ri9Qe6QAF</td>\n",
              "      <td>Zenith Solutions</td>\n",
              "      <td>zenithsolutions.net</td>\n",
              "      <td>China</td>\n",
              "      <td>0034M0000qcA3rMQAV</td>\n",
              "      <td>Yes</td>\n",
              "      <td>NaN</td>\n",
              "      <td>2023-02-11 06:11:00</td>\n",
              "      <td>NaN</td>\n",
              "      <td>IT Business Analyst</td>\n",
              "      <td>Advertisement</td>\n",
              "    </tr>\n",
              "    <tr>\n",
              "      <th>997</th>\n",
              "      <td>FY23-Q3-global-PROD461-fall_into_savings</td>\n",
              "      <td>Fall Into Savings</td>\n",
              "      <td>No Show</td>\n",
              "      <td>0014M0000Ri9Qe6QAF</td>\n",
              "      <td>Zenith Solutions</td>\n",
              "      <td>zenithsolutions.net</td>\n",
              "      <td>China</td>\n",
              "      <td>0034M0000qVJd4KQAZ</td>\n",
              "      <td>Yes</td>\n",
              "      <td>referral program</td>\n",
              "      <td>2023-06-15 06:11:00</td>\n",
              "      <td>NaN</td>\n",
              "      <td>Systems Operations Analyst II (Americas)</td>\n",
              "      <td>Advertisement</td>\n",
              "    </tr>\n",
              "    <tr>\n",
              "      <th>998</th>\n",
              "      <td>FY23-Q3-global-PROD461-cyber_monday_blowout</td>\n",
              "      <td>Cyber Monday Blowout</td>\n",
              "      <td>No Show</td>\n",
              "      <td>0014M0000Ri9Qe6QAF</td>\n",
              "      <td>Zenith Solutions</td>\n",
              "      <td>zenithsolutions.net</td>\n",
              "      <td>China</td>\n",
              "      <td>0034M0000o1vNNiQAM</td>\n",
              "      <td>Yes</td>\n",
              "      <td>social media campaign</td>\n",
              "      <td>2023-08-10 06:11:00</td>\n",
              "      <td>NaN</td>\n",
              "      <td>Tools &amp; Technology Lead Senior Data Analyst</td>\n",
              "      <td>Advertisement</td>\n",
              "    </tr>\n",
              "    <tr>\n",
              "      <th>999</th>\n",
              "      <td>FY23-Q3-global-PROD461-fall_fashion_sale</td>\n",
              "      <td>Fall Fashion Sale</td>\n",
              "      <td>No Show</td>\n",
              "      <td>0014M0000Ri9Qe6QAF</td>\n",
              "      <td>Zenith Solutions</td>\n",
              "      <td>zenithsolutions.net</td>\n",
              "      <td>China</td>\n",
              "      <td>0034M0000kZbWYKQA1</td>\n",
              "      <td>Yes</td>\n",
              "      <td>NaN</td>\n",
              "      <td>2023-02-05 06:11:00</td>\n",
              "      <td>NaN</td>\n",
              "      <td>Business Analyst &amp; Project Manager, Informatio...</td>\n",
              "      <td>Advertisement</td>\n",
              "    </tr>\n",
              "  </tbody>\n",
              "</table>\n",
              "<p>1000 rows × 14 columns</p>\n",
              "</div>\n",
              "    <div class=\"colab-df-buttons\">\n",
              "\n",
              "  <div class=\"colab-df-container\">\n",
              "    <button class=\"colab-df-convert\" onclick=\"convertToInteractive('df-6db3df65-8d25-45a7-a293-11b6ed659d71')\"\n",
              "            title=\"Convert this dataframe to an interactive table.\"\n",
              "            style=\"display:none;\">\n",
              "\n",
              "  <svg xmlns=\"http://www.w3.org/2000/svg\" height=\"24px\" viewBox=\"0 -960 960 960\">\n",
              "    <path d=\"M120-120v-720h720v720H120Zm60-500h600v-160H180v160Zm220 220h160v-160H400v160Zm0 220h160v-160H400v160ZM180-400h160v-160H180v160Zm440 0h160v-160H620v160ZM180-180h160v-160H180v160Zm440 0h160v-160H620v160Z\"/>\n",
              "  </svg>\n",
              "    </button>\n",
              "\n",
              "  <style>\n",
              "    .colab-df-container {\n",
              "      display:flex;\n",
              "      gap: 12px;\n",
              "    }\n",
              "\n",
              "    .colab-df-convert {\n",
              "      background-color: #E8F0FE;\n",
              "      border: none;\n",
              "      border-radius: 50%;\n",
              "      cursor: pointer;\n",
              "      display: none;\n",
              "      fill: #1967D2;\n",
              "      height: 32px;\n",
              "      padding: 0 0 0 0;\n",
              "      width: 32px;\n",
              "    }\n",
              "\n",
              "    .colab-df-convert:hover {\n",
              "      background-color: #E2EBFA;\n",
              "      box-shadow: 0px 1px 2px rgba(60, 64, 67, 0.3), 0px 1px 3px 1px rgba(60, 64, 67, 0.15);\n",
              "      fill: #174EA6;\n",
              "    }\n",
              "\n",
              "    .colab-df-buttons div {\n",
              "      margin-bottom: 4px;\n",
              "    }\n",
              "\n",
              "    [theme=dark] .colab-df-convert {\n",
              "      background-color: #3B4455;\n",
              "      fill: #D2E3FC;\n",
              "    }\n",
              "\n",
              "    [theme=dark] .colab-df-convert:hover {\n",
              "      background-color: #434B5C;\n",
              "      box-shadow: 0px 1px 3px 1px rgba(0, 0, 0, 0.15);\n",
              "      filter: drop-shadow(0px 1px 2px rgba(0, 0, 0, 0.3));\n",
              "      fill: #FFFFFF;\n",
              "    }\n",
              "  </style>\n",
              "\n",
              "    <script>\n",
              "      const buttonEl =\n",
              "        document.querySelector('#df-6db3df65-8d25-45a7-a293-11b6ed659d71 button.colab-df-convert');\n",
              "      buttonEl.style.display =\n",
              "        google.colab.kernel.accessAllowed ? 'block' : 'none';\n",
              "\n",
              "      async function convertToInteractive(key) {\n",
              "        const element = document.querySelector('#df-6db3df65-8d25-45a7-a293-11b6ed659d71');\n",
              "        const dataTable =\n",
              "          await google.colab.kernel.invokeFunction('convertToInteractive',\n",
              "                                                    [key], {});\n",
              "        if (!dataTable) return;\n",
              "\n",
              "        const docLinkHtml = 'Like what you see? Visit the ' +\n",
              "          '<a target=\"_blank\" href=https://colab.research.google.com/notebooks/data_table.ipynb>data table notebook</a>'\n",
              "          + ' to learn more about interactive tables.';\n",
              "        element.innerHTML = '';\n",
              "        dataTable['output_type'] = 'display_data';\n",
              "        await google.colab.output.renderOutput(dataTable, element);\n",
              "        const docLink = document.createElement('div');\n",
              "        docLink.innerHTML = docLinkHtml;\n",
              "        element.appendChild(docLink);\n",
              "      }\n",
              "    </script>\n",
              "  </div>\n",
              "\n",
              "\n",
              "<div id=\"df-9bb99d1c-0dae-4f7e-b715-ca32dace1eb5\">\n",
              "  <button class=\"colab-df-quickchart\" onclick=\"quickchart('df-9bb99d1c-0dae-4f7e-b715-ca32dace1eb5')\"\n",
              "            title=\"Suggest charts\"\n",
              "            style=\"display:none;\">\n",
              "\n",
              "<svg xmlns=\"http://www.w3.org/2000/svg\" height=\"24px\"viewBox=\"0 0 24 24\"\n",
              "     width=\"24px\">\n",
              "    <g>\n",
              "        <path d=\"M19 3H5c-1.1 0-2 .9-2 2v14c0 1.1.9 2 2 2h14c1.1 0 2-.9 2-2V5c0-1.1-.9-2-2-2zM9 17H7v-7h2v7zm4 0h-2V7h2v10zm4 0h-2v-4h2v4z\"/>\n",
              "    </g>\n",
              "</svg>\n",
              "  </button>\n",
              "\n",
              "<style>\n",
              "  .colab-df-quickchart {\n",
              "      --bg-color: #E8F0FE;\n",
              "      --fill-color: #1967D2;\n",
              "      --hover-bg-color: #E2EBFA;\n",
              "      --hover-fill-color: #174EA6;\n",
              "      --disabled-fill-color: #AAA;\n",
              "      --disabled-bg-color: #DDD;\n",
              "  }\n",
              "\n",
              "  [theme=dark] .colab-df-quickchart {\n",
              "      --bg-color: #3B4455;\n",
              "      --fill-color: #D2E3FC;\n",
              "      --hover-bg-color: #434B5C;\n",
              "      --hover-fill-color: #FFFFFF;\n",
              "      --disabled-bg-color: #3B4455;\n",
              "      --disabled-fill-color: #666;\n",
              "  }\n",
              "\n",
              "  .colab-df-quickchart {\n",
              "    background-color: var(--bg-color);\n",
              "    border: none;\n",
              "    border-radius: 50%;\n",
              "    cursor: pointer;\n",
              "    display: none;\n",
              "    fill: var(--fill-color);\n",
              "    height: 32px;\n",
              "    padding: 0;\n",
              "    width: 32px;\n",
              "  }\n",
              "\n",
              "  .colab-df-quickchart:hover {\n",
              "    background-color: var(--hover-bg-color);\n",
              "    box-shadow: 0 1px 2px rgba(60, 64, 67, 0.3), 0 1px 3px 1px rgba(60, 64, 67, 0.15);\n",
              "    fill: var(--button-hover-fill-color);\n",
              "  }\n",
              "\n",
              "  .colab-df-quickchart-complete:disabled,\n",
              "  .colab-df-quickchart-complete:disabled:hover {\n",
              "    background-color: var(--disabled-bg-color);\n",
              "    fill: var(--disabled-fill-color);\n",
              "    box-shadow: none;\n",
              "  }\n",
              "\n",
              "  .colab-df-spinner {\n",
              "    border: 2px solid var(--fill-color);\n",
              "    border-color: transparent;\n",
              "    border-bottom-color: var(--fill-color);\n",
              "    animation:\n",
              "      spin 1s steps(1) infinite;\n",
              "  }\n",
              "\n",
              "  @keyframes spin {\n",
              "    0% {\n",
              "      border-color: transparent;\n",
              "      border-bottom-color: var(--fill-color);\n",
              "      border-left-color: var(--fill-color);\n",
              "    }\n",
              "    20% {\n",
              "      border-color: transparent;\n",
              "      border-left-color: var(--fill-color);\n",
              "      border-top-color: var(--fill-color);\n",
              "    }\n",
              "    30% {\n",
              "      border-color: transparent;\n",
              "      border-left-color: var(--fill-color);\n",
              "      border-top-color: var(--fill-color);\n",
              "      border-right-color: var(--fill-color);\n",
              "    }\n",
              "    40% {\n",
              "      border-color: transparent;\n",
              "      border-right-color: var(--fill-color);\n",
              "      border-top-color: var(--fill-color);\n",
              "    }\n",
              "    60% {\n",
              "      border-color: transparent;\n",
              "      border-right-color: var(--fill-color);\n",
              "    }\n",
              "    80% {\n",
              "      border-color: transparent;\n",
              "      border-right-color: var(--fill-color);\n",
              "      border-bottom-color: var(--fill-color);\n",
              "    }\n",
              "    90% {\n",
              "      border-color: transparent;\n",
              "      border-bottom-color: var(--fill-color);\n",
              "    }\n",
              "  }\n",
              "</style>\n",
              "\n",
              "  <script>\n",
              "    async function quickchart(key) {\n",
              "      const quickchartButtonEl =\n",
              "        document.querySelector('#' + key + ' button');\n",
              "      quickchartButtonEl.disabled = true;  // To prevent multiple clicks.\n",
              "      quickchartButtonEl.classList.add('colab-df-spinner');\n",
              "      try {\n",
              "        const charts = await google.colab.kernel.invokeFunction(\n",
              "            'suggestCharts', [key], {});\n",
              "      } catch (error) {\n",
              "        console.error('Error during call to suggestCharts:', error);\n",
              "      }\n",
              "      quickchartButtonEl.classList.remove('colab-df-spinner');\n",
              "      quickchartButtonEl.classList.add('colab-df-quickchart-complete');\n",
              "    }\n",
              "    (() => {\n",
              "      let quickchartButtonEl =\n",
              "        document.querySelector('#df-9bb99d1c-0dae-4f7e-b715-ca32dace1eb5 button');\n",
              "      quickchartButtonEl.style.display =\n",
              "        google.colab.kernel.accessAllowed ? 'block' : 'none';\n",
              "    })();\n",
              "  </script>\n",
              "</div>\n",
              "\n",
              "  <div id=\"id_c5c3d1e3-606e-4a15-bf1f-3ccaf0b39e2a\">\n",
              "    <style>\n",
              "      .colab-df-generate {\n",
              "        background-color: #E8F0FE;\n",
              "        border: none;\n",
              "        border-radius: 50%;\n",
              "        cursor: pointer;\n",
              "        display: none;\n",
              "        fill: #1967D2;\n",
              "        height: 32px;\n",
              "        padding: 0 0 0 0;\n",
              "        width: 32px;\n",
              "      }\n",
              "\n",
              "      .colab-df-generate:hover {\n",
              "        background-color: #E2EBFA;\n",
              "        box-shadow: 0px 1px 2px rgba(60, 64, 67, 0.3), 0px 1px 3px 1px rgba(60, 64, 67, 0.15);\n",
              "        fill: #174EA6;\n",
              "      }\n",
              "\n",
              "      [theme=dark] .colab-df-generate {\n",
              "        background-color: #3B4455;\n",
              "        fill: #D2E3FC;\n",
              "      }\n",
              "\n",
              "      [theme=dark] .colab-df-generate:hover {\n",
              "        background-color: #434B5C;\n",
              "        box-shadow: 0px 1px 3px 1px rgba(0, 0, 0, 0.15);\n",
              "        filter: drop-shadow(0px 1px 2px rgba(0, 0, 0, 0.3));\n",
              "        fill: #FFFFFF;\n",
              "      }\n",
              "    </style>\n",
              "    <button class=\"colab-df-generate\" onclick=\"generateWithVariable('df_cleaned')\"\n",
              "            title=\"Generate code using this dataframe.\"\n",
              "            style=\"display:none;\">\n",
              "\n",
              "  <svg xmlns=\"http://www.w3.org/2000/svg\" height=\"24px\"viewBox=\"0 0 24 24\"\n",
              "       width=\"24px\">\n",
              "    <path d=\"M7,19H8.4L18.45,9,17,7.55,7,17.6ZM5,21V16.75L18.45,3.32a2,2,0,0,1,2.83,0l1.4,1.43a1.91,1.91,0,0,1,.58,1.4,1.91,1.91,0,0,1-.58,1.4L9.25,21ZM18.45,9,17,7.55Zm-12,3A5.31,5.31,0,0,0,4.9,8.1,5.31,5.31,0,0,0,1,6.5,5.31,5.31,0,0,0,4.9,4.9,5.31,5.31,0,0,0,6.5,1,5.31,5.31,0,0,0,8.1,4.9,5.31,5.31,0,0,0,12,6.5,5.46,5.46,0,0,0,6.5,12Z\"/>\n",
              "  </svg>\n",
              "    </button>\n",
              "    <script>\n",
              "      (() => {\n",
              "      const buttonEl =\n",
              "        document.querySelector('#id_c5c3d1e3-606e-4a15-bf1f-3ccaf0b39e2a button.colab-df-generate');\n",
              "      buttonEl.style.display =\n",
              "        google.colab.kernel.accessAllowed ? 'block' : 'none';\n",
              "\n",
              "      buttonEl.onclick = () => {\n",
              "        google.colab.notebook.generateWithVariable('df_cleaned');\n",
              "      }\n",
              "      })();\n",
              "    </script>\n",
              "  </div>\n",
              "\n",
              "    </div>\n",
              "  </div>\n"
            ],
            "application/vnd.google.colaboratory.intrinsic+json": {
              "type": "dataframe",
              "variable_name": "df_cleaned",
              "summary": "{\n  \"name\": \"df_cleaned\",\n  \"rows\": 1000,\n  \"fields\": [\n    {\n      \"column\": \"Campaign ID\",\n      \"properties\": {\n        \"dtype\": \"category\",\n        \"num_unique_values\": 81,\n        \"samples\": [\n          \"FY23-Q3-global-PROD461-halloween_savings_bash\",\n          \"FY23-Q3-global-PROD461-valentines_day_special\",\n          \"FY23-Q3-global-PROD461-end_of_summer_blowout\"\n        ],\n        \"semantic_type\": \"\",\n        \"description\": \"\"\n      }\n    },\n    {\n      \"column\": \"Campaign Name\",\n      \"properties\": {\n        \"dtype\": \"category\",\n        \"num_unique_values\": 81,\n        \"samples\": [\n          \"Halloween Savings Bash\",\n          \"Valentine's Day Special\",\n          \"End of Summer Blowout\"\n        ],\n        \"semantic_type\": \"\",\n        \"description\": \"\"\n      }\n    },\n    {\n      \"column\": \"Prospect Status\",\n      \"properties\": {\n        \"dtype\": \"category\",\n        \"num_unique_values\": 4,\n        \"samples\": [\n          \"Responded\",\n          \"Attended\",\n          \"No Show\"\n        ],\n        \"semantic_type\": \"\",\n        \"description\": \"\"\n      }\n    },\n    {\n      \"column\": \"Account ID\",\n      \"properties\": {\n        \"dtype\": \"category\",\n        \"num_unique_values\": 126,\n        \"samples\": [\n          \"0014M0000Ry0LPOQA22\",\n          \"0014M0000HCVQJZQA8\",\n          \"0014M0000Gf3ZCQQA12\"\n        ],\n        \"semantic_type\": \"\",\n        \"description\": \"\"\n      }\n    },\n    {\n      \"column\": \"Account Name\",\n      \"properties\": {\n        \"dtype\": \"category\",\n        \"num_unique_values\": 47,\n        \"samples\": [\n          \"Pegasus Solutions\",\n          \"Spectrum Enterprises\",\n          \"Orion Dynamics\"\n        ],\n        \"semantic_type\": \"\",\n        \"description\": \"\"\n      }\n    },\n    {\n      \"column\": \"domain\",\n      \"properties\": {\n        \"dtype\": \"category\",\n        \"num_unique_values\": 50,\n        \"samples\": [\n          \"eclipsetechnologies.biz\",\n          \"solariscorporation.biz\",\n          \"phoenixdyn.biz\"\n        ],\n        \"semantic_type\": \"\",\n        \"description\": \"\"\n      }\n    },\n    {\n      \"column\": \"Country\",\n      \"properties\": {\n        \"dtype\": \"category\",\n        \"num_unique_values\": 13,\n        \"samples\": [\n          \"Germany\",\n          \"Japan\",\n          \"Italy\"\n        ],\n        \"semantic_type\": \"\",\n        \"description\": \"\"\n      }\n    },\n    {\n      \"column\": \"Prospect ID\",\n      \"properties\": {\n        \"dtype\": \"string\",\n        \"num_unique_values\": 997,\n        \"samples\": [\n          \"0034M0000qqkUWeQAI\",\n          \"0034M0000p2lnisQAB\",\n          \"0034M0000rE2NJTQAZ\"\n        ],\n        \"semantic_type\": \"\",\n        \"description\": \"\"\n      }\n    },\n    {\n      \"column\": \"Opt-In\",\n      \"properties\": {\n        \"dtype\": \"category\",\n        \"num_unique_values\": 2,\n        \"samples\": [\n          \"No\",\n          \"Yes\"\n        ],\n        \"semantic_type\": \"\",\n        \"description\": \"\"\n      }\n    },\n    {\n      \"column\": \"Opt-In Source\",\n      \"properties\": {\n        \"dtype\": \"category\",\n        \"num_unique_values\": 8,\n        \"samples\": [\n          \"social media campaign\",\n          \"online contest entry\"\n        ],\n        \"semantic_type\": \"\",\n        \"description\": \"\"\n      }\n    },\n    {\n      \"column\": \"Opt-In Timestamp\",\n      \"properties\": {\n        \"dtype\": \"date\",\n        \"min\": \"2023-01-20 06:11:00\",\n        \"max\": \"2023-12-18 06:11:00\",\n        \"num_unique_values\": 163,\n        \"samples\": [\n          \"2023-04-06 06:11:00\",\n          \"2023-11-14 06:11:00\"\n        ],\n        \"semantic_type\": \"\",\n        \"description\": \"\"\n      }\n    },\n    {\n      \"column\": \"Opt-Out Timestamp\",\n      \"properties\": {\n        \"dtype\": \"date\",\n        \"min\": \"2023-06-21 06:11:00\",\n        \"max\": \"2025-08-25 06:11:00\",\n        \"num_unique_values\": 25,\n        \"samples\": [\n          \"8/20/25 6:11\",\n          \"12/3/23 6:11\"\n        ],\n        \"semantic_type\": \"\",\n        \"description\": \"\"\n      }\n    },\n    {\n      \"column\": \"Job Title\",\n      \"properties\": {\n        \"dtype\": \"string\",\n        \"num_unique_values\": 724,\n        \"samples\": [\n          \"Analista de Modelos - Analyst\",\n          \"Leader, Advanced Analytics\"\n        ],\n        \"semantic_type\": \"\",\n        \"description\": \"\"\n      }\n    },\n    {\n      \"column\": \"Prospect Source\",\n      \"properties\": {\n        \"dtype\": \"category\",\n        \"num_unique_values\": 4,\n        \"samples\": [\n          \"Trade Show\",\n          \"Social Media\"\n        ],\n        \"semantic_type\": \"\",\n        \"description\": \"\"\n      }\n    }\n  ]\n}"
            }
          },
          "metadata": {},
          "execution_count": 3
        }
      ]
    },
    {
      "cell_type": "markdown",
      "source": [
        "**Show me the uniques per Column**"
      ],
      "metadata": {
        "id": "dXNjgn5-yxba"
      }
    },
    {
      "cell_type": "code",
      "source": [
        "uniques_=df_cleaned.nunique()\n",
        "print(uniques_)\n"
      ],
      "metadata": {
        "colab": {
          "base_uri": "https://localhost:8080/"
        },
        "id": "htPyE_wSPeUR",
        "outputId": "f75c3572-61a2-4607-bd95-203e0eb2660a"
      },
      "execution_count": 4,
      "outputs": [
        {
          "output_type": "stream",
          "name": "stdout",
          "text": [
            "Campaign ID           81\n",
            "Campaign Name         81\n",
            "Prospect Status        4\n",
            "Account ID           126\n",
            "Account Name          47\n",
            "domain                50\n",
            "Country               13\n",
            "Prospect ID          997\n",
            "Opt-In                 2\n",
            "Opt-In Source          8\n",
            "Opt-In Timestamp     163\n",
            "Opt-Out Timestamp     25\n",
            "Job Title            724\n",
            "Prospect Source        4\n",
            "dtype: int64\n"
          ]
        }
      ]
    },
    {
      "cell_type": "markdown",
      "source": [
        "**Opt-In Source Only**"
      ],
      "metadata": {
        "id": "VxU6kTOty4h2"
      }
    },
    {
      "cell_type": "code",
      "source": [
        "df_cleaned[\"Opt-In Source\"].unique()"
      ],
      "metadata": {
        "colab": {
          "base_uri": "https://localhost:8080/"
        },
        "id": "mPVQSyaAg4wD",
        "outputId": "6dbda5bb-e430-4fbd-c36f-83ce826114a5"
      },
      "execution_count": 5,
      "outputs": [
        {
          "output_type": "execute_result",
          "data": {
            "text/plain": [
              "array(['online purchase', 'social media campaign', 'referral program',\n",
              "       'event registration', 'newsletter subscription',\n",
              "       'online contest entry', nan, 'email subscription', 'website form'],\n",
              "      dtype=object)"
            ]
          },
          "metadata": {},
          "execution_count": 5
        }
      ]
    },
    {
      "cell_type": "markdown",
      "source": [
        "**Just Checking the time span**"
      ],
      "metadata": {
        "id": "zrnZFCzbzCg6"
      }
    },
    {
      "cell_type": "code",
      "source": [
        "time_stmap=df_cleaned[\"Opt-In Timestamp\"].dropna()\n",
        "\n",
        "print(time_stmap.max(), time_stmap.min())\n",
        "time_stmap.count()"
      ],
      "metadata": {
        "colab": {
          "base_uri": "https://localhost:8080/"
        },
        "id": "9o9Bp7dIP8G7",
        "outputId": "5b163d43-e5eb-40da-c28b-c602801d691d"
      },
      "execution_count": 6,
      "outputs": [
        {
          "output_type": "stream",
          "name": "stdout",
          "text": [
            "2023-12-18 06:11:00 2023-01-20 06:11:00\n"
          ]
        },
        {
          "output_type": "execute_result",
          "data": {
            "text/plain": [
              "954"
            ]
          },
          "metadata": {},
          "execution_count": 6
        }
      ]
    },
    {
      "cell_type": "markdown",
      "source": [
        "**Checking the Prospect Status**"
      ],
      "metadata": {
        "id": "-OR5fWkizMT8"
      }
    },
    {
      "cell_type": "code",
      "source": [
        "list_values=df_cleaned['Prospect Status'].unique()\n",
        "print(list_values)"
      ],
      "metadata": {
        "colab": {
          "base_uri": "https://localhost:8080/"
        },
        "id": "61m4ZhCYKXLf",
        "outputId": "f583c4d2-35c5-4c4c-98f5-2b575b1fb2a2"
      },
      "execution_count": 7,
      "outputs": [
        {
          "output_type": "stream",
          "name": "stdout",
          "text": [
            "['No Show' 'Responded' 'Registered' 'Attended']\n"
          ]
        }
      ]
    },
    {
      "cell_type": "markdown",
      "source": [
        "**Checking the Prospect Status Distribution**"
      ],
      "metadata": {
        "id": "Hxm32DapzV78"
      }
    },
    {
      "cell_type": "code",
      "source": [
        "#\n",
        "#count_attended = (df_cleaned[\"Prospect Status\"] == \"Attended\").sum()\n",
        "count_dict = df_cleaned[\"Prospect Status\"].value_counts().to_dict()\n",
        "count_values = {status: count_dict.get(status, 0) for status in list_values}\n",
        "\n",
        "\n",
        "# Data\n",
        "categories = list_values\n",
        "values = list(count_values.values())\n",
        "total=sum(values)\n",
        "values_perc=[round(x * 100/total,1) for x in values]\n",
        "\n",
        "# Create bar chart\n",
        "plt.figure(figsize=(8, 5))\n",
        "bars = plt.bar(categories, values_perc)\n",
        "\n",
        "\n",
        "# Add labels on top of each bar\n",
        "for bar in bars:\n",
        "    height = bar.get_height()\n",
        "    plt.text(bar.get_x() + bar.get_width()/2, height, str(height),\n",
        "             ha='center', va='bottom', fontsize=10)\n",
        "\n",
        "\n",
        "# Labels and title\n",
        "plt.xlabel(\"Prospect Status\")\n",
        "plt.ylabel(\"Count\")\n",
        "plt.title(\"Prospect Status Distribution\")\n",
        "\n",
        "\n",
        "\n",
        "# Display the chart\n",
        "plt.tight_layout()\n",
        "plt.show()\n",
        "print(values)\n",
        "\n"
      ],
      "metadata": {
        "colab": {
          "base_uri": "https://localhost:8080/",
          "height": 525
        },
        "id": "o4OEQCi-MfmO",
        "outputId": "14f796fe-ac2a-4467-e0fe-a343e181a9ee"
      },
      "execution_count": 8,
      "outputs": [
        {
          "output_type": "display_data",
          "data": {
            "text/plain": [
              "<Figure size 800x500 with 1 Axes>"
            ],
            "image/png": "[encoded data removed]"
          },
          "metadata": {}
        },
        {
          "output_type": "stream",
          "name": "stdout",
          "text": [
            "[662, 94, 127, 117]\n"
          ]
        }
      ]
    },
    {
      "cell_type": "markdown",
      "source": [
        "**Getting Conversion rate per Prospect Source**"
      ],
      "metadata": {
        "id": "1HDwn-iFzfk_"
      }
    },
    {
      "cell_type": "code",
      "source": [
        "\n",
        "a=df_cleaned.groupby(\"Prospect Source\")[\"Prospect Status\"].apply(lambda x: (x == \"Registered\").sum())\n",
        "b=df_cleaned.groupby(\"Prospect Source\")[\"Prospect Status\"].count()\n",
        "merged_df = pd.merge(a, b, on=\"Prospect Source\", how=\"left\")\n",
        "merged_df = merged_df.rename(columns={\"Prospect Status_x\": \"Successfull\", \"Prospect Status_y\": \"Total\"})\n",
        "merged_df['Conversion_rate']=merged_df['Successfull']/merged_df['Total']*100\n",
        "print(merged_df )\n",
        "#print(merged_df['Successfull'].sum())\n",
        "#print(merged_df['Total'].sum())"
      ],
      "metadata": {
        "colab": {
          "base_uri": "https://localhost:8080/"
        },
        "id": "HYly0LQCMoTn",
        "outputId": "6629544b-8d30-4875-89d0-d7463201e90a"
      },
      "execution_count": 9,
      "outputs": [
        {
          "output_type": "stream",
          "name": "stdout",
          "text": [
            "                 Successfull  Total  Conversion_rate\n",
            "Prospect Source                                     \n",
            "Advertisement            104    821        12.667479\n",
            "Referral                  10     40        25.000000\n",
            "Social Media               0     14         0.000000\n",
            "Trade Show                13    125        10.400000\n"
          ]
        }
      ]
    },
    {
      "cell_type": "markdown",
      "source": [
        "**Getting CR per Opt-IN Source**"
      ],
      "metadata": {
        "id": "6B_LPndKzsrO"
      }
    },
    {
      "cell_type": "code",
      "source": [
        "a=b=merge_df=[]\n",
        "a=df_cleaned.groupby(\"Opt-In Source\")[\"Prospect Status\"].apply(lambda x: (x == \"Registered\").sum())\n",
        "b=df_cleaned.groupby(\"Opt-In Source\")[\"Prospect Status\"].count()\n",
        "merged_df = pd.merge(a, b, on=\"Opt-In Source\", how=\"left\")\n",
        "merged_df = merged_df.rename(columns={\"Prospect Status_x\": \"Successfull\", \"Prospect Status_y\": \"Total\"})\n",
        "merged_df['Conversion_rate']=merged_df['Successfull']/merged_df['Total']*100\n",
        "print(merged_df )\n",
        "#print(merged_df['Successfull'].sum())\n",
        "#print(merged_df['Total'].sum())"
      ],
      "metadata": {
        "colab": {
          "base_uri": "https://localhost:8080/"
        },
        "id": "7mphMaVdiGMb",
        "outputId": "108ce453-c62c-42af-ae65-22e6d875052f"
      },
      "execution_count": 10,
      "outputs": [
        {
          "output_type": "stream",
          "name": "stdout",
          "text": [
            "                         Successfull  Total  Conversion_rate\n",
            "Opt-In Source                                               \n",
            "email subscription                13     84        15.476190\n",
            "event registration                10     84        11.904762\n",
            "newsletter subscription           17    124        13.709677\n",
            "online contest entry              15    124        12.096774\n",
            "online purchase                   13    125        10.400000\n",
            "referral program                  16    125        12.800000\n",
            "social media campaign             16    125        12.800000\n",
            "website form                      11     84        13.095238\n"
          ]
        }
      ]
    },
    {
      "cell_type": "markdown",
      "source": [
        "**Country distribution**"
      ],
      "metadata": {
        "id": "2OfWYjwez6eY"
      }
    },
    {
      "cell_type": "code",
      "source": [
        "a=b=[]\n",
        "a=df_cleaned.groupby(\"Country\")[\"Prospect Status\"].apply(lambda x: (x == \"Registered\").sum())\n",
        "\n",
        "a_df = a.reset_index()\n",
        "a_df=a_df.sort_values(by=\"Prospect Status\")\n",
        "\n",
        "# Data\n",
        "categories = a_df['Country'].tolist()\n",
        "values = a_df['Prospect Status'].tolist()\n",
        "\n",
        "\n",
        "# Create bar chart\n",
        "plt.figure(figsize=(12, 5))\n",
        "bars = plt.bar(categories, values)\n",
        "\n",
        "\n",
        "\n",
        "\n",
        "\n",
        "# Labels and title\n",
        "plt.xlabel(\"Country\")\n",
        "plt.ylabel(\"Count\")\n",
        "plt.title(\"Prospect Status Distribution\")\n",
        "\n",
        "\n",
        "\n",
        "# Display the chart\n",
        "plt.tight_layout()\n",
        "plt.show()\n",
        "print(categories)\n",
        "print(values)"
      ],
      "metadata": {
        "colab": {
          "base_uri": "https://localhost:8080/",
          "height": 544
        },
        "id": "ZrIHHvtp6oK7",
        "outputId": "7191e286-32a4-4645-d1b9-1d5bf3971254"
      },
      "execution_count": 11,
      "outputs": [
        {
          "output_type": "display_data",
          "data": {
            "text/plain": [
              "<Figure size 1200x500 with 1 Axes>"
            ],
            "image/png": "[encoded data removed]"
          },
          "metadata": {}
        },
        {
          "output_type": "stream",
          "name": "stdout",
          "text": [
            "['Japan', 'Germany', 'Argentina', 'Italy', 'India', 'Brazil', 'Spain', 'France', 'Mexico', 'China', 'United Kingdom', 'Canada', 'United States']\n",
            "[0, 3, 4, 5, 6, 8, 9, 10, 10, 12, 12, 15, 33]\n"
          ]
        }
      ]
    },
    {
      "cell_type": "markdown",
      "source": [
        "**Classification Per Role**"
      ],
      "metadata": {
        "id": "J1wpRN_n0CJU"
      }
    },
    {
      "cell_type": "code",
      "source": [
        "def categorize_role(role_):\n",
        "    role=role_.lower()\n",
        "    practioneer_list=[\"specialist\",\"analyst\",\"senior\",\"intern\",\"lead\",\"engineer\",\"associate\",\"coordinator\" ]\n",
        "    decision_list=[\"director\",\"manager\",\"head\",\"consultant\",\"partner\",\"direktør\",\"direcror\" ]\n",
        "    executive_list=[\"vp\",\"chief\",\"vice\"]\n",
        "    # if \"analyst\" in role or \"specialist\" in role or \"senior\" in role or \"intern\" in role or \"lead\" in role or \"engineer\" in role or \"associate\" in role:\n",
        "    if any(word in role for word in decision_list):\n",
        "        return \"Decision Maker\"\n",
        "    elif any(word in role for word in executive_list):\n",
        "        return \"Executive\"\n",
        "    else:\n",
        "        return \"Practioneer\"\n",
        "\n",
        "df_cleaned.loc[:, \"Role\"] = df_cleaned[\"Job Title\"].apply(categorize_role)\n",
        "\n",
        "# print(df_cleaned[['Job Title','Role']])\n",
        "print(df_cleaned[df_cleaned[\"Role\"] == \"Decision Maker\"][[\"Job Title\", \"Role\"]])\n",
        "# print(df_cleaned[['Job Title','Role']].head(20))"
      ],
      "metadata": {
        "colab": {
          "base_uri": "https://localhost:8080/"
        },
        "id": "m2Ssh8zpn6KG",
        "outputId": "45b0739c-7377-42d2-e790-cf6fd76bfdef"
      },
      "execution_count": 12,
      "outputs": [
        {
          "output_type": "stream",
          "name": "stdout",
          "text": [
            "                                             Job Title            Role\n",
            "24                 \"Senior Director, Data & Analytics\"  Decision Maker\n",
            "35                     Sr. Data & Analytics Consultant  Decision Maker\n",
            "40        Director of Operational Strategy & Analytics  Decision Maker\n",
            "45     Director Enterprise Strategy and Data Analytics  Decision Maker\n",
            "48   Senior Director, Advanced Analytics & Data Sci...  Decision Maker\n",
            "..                                                 ...             ...\n",
            "973  \"Manager, Data Measurement Reporting Governmen...  Decision Maker\n",
            "975             \"Director, Marketing Data & Analytics\"  Decision Maker\n",
            "977                         \"Director, Data Analytics\"  Decision Maker\n",
            "988                Assistant Manager, People Analytics  Decision Maker\n",
            "999  Business Analyst & Project Manager, Informatio...  Decision Maker\n",
            "\n",
            "[176 rows x 2 columns]\n"
          ]
        }
      ]
    },
    {
      "cell_type": "markdown",
      "source": [
        "**NEW Classification of Prospect Source**"
      ],
      "metadata": {
        "id": "SdZ-B2-j0GrB"
      }
    },
    {
      "cell_type": "code",
      "source": [
        "def New_PS(source):\n",
        "    source=source.lower()\n",
        "    social_list=[\"social\" ]\n",
        "    referral_list=[\"referral\" ]\n",
        "    event_list=[\"event\"]\n",
        "\n",
        "    if any(word in source for word in social_list):\n",
        "        return \"Social Media\"\n",
        "    elif any(word in source for word in referral_list):\n",
        "        return \"Referral\"\n",
        "    elif any(word in source for word in event_list):\n",
        "        return \"Trade Show\"\n",
        "    else:\n",
        "        return \"Online\"\n",
        "\n",
        "# email subscription                13     84        15.476190\n",
        "# event registration                10     84        11.904762\n",
        "# newsletter subscription           17    124        13.709677\n",
        "# online contest entry              15    124        12.096774\n",
        "# online purchase                   13    125        10.400000\n",
        "# referral program                  16    125        12.800000\n",
        "# social media campaign             16    125        12.800000\n",
        "# website form                      11     84        13.095238"
      ],
      "metadata": {
        "id": "S9mM_vO3iwEP"
      },
      "execution_count": 13,
      "outputs": []
    },
    {
      "cell_type": "markdown",
      "source": [
        "**New Conversion Rate**"
      ],
      "metadata": {
        "id": "GOBbrzft0Rwe"
      }
    },
    {
      "cell_type": "code",
      "source": [
        "df_cleaned = df_cleaned.dropna(subset=[\"Opt-In Source\"])\n",
        "df_cleaned.loc[:, \"New Prospect Source\"] = df_cleaned[\"Opt-In Source\"].apply(New_PS)\n",
        "a=b=merge_df=[]\n",
        "a=df_cleaned.groupby(\"New Prospect Source\")[\"Prospect Status\"].apply(lambda x: (x == \"Registered\").sum())\n",
        "b=df_cleaned.groupby(\"New Prospect Source\")[\"Prospect Status\"].count()\n",
        "merged_df = pd.merge(a, b, on=\"New Prospect Source\", how=\"left\")\n",
        "merged_df = merged_df.rename(columns={\"Prospect Status_x\": \"Successfull\", \"Prospect Status_y\": \"Total\"})\n",
        "merged_df['Conversion_rate']=merged_df['Successfull']/merged_df['Total']*100\n",
        "print(merged_df )"
      ],
      "metadata": {
        "colab": {
          "base_uri": "https://localhost:8080/"
        },
        "id": "H5z4jGd9kG5R",
        "outputId": "dca3a277-3eec-4b6b-918e-93d212597a00"
      },
      "execution_count": 14,
      "outputs": [
        {
          "output_type": "stream",
          "name": "stdout",
          "text": [
            "                     Successfull  Total  Conversion_rate\n",
            "New Prospect Source                                     \n",
            "Online                        69    541        12.754159\n",
            "Referral                      16    125        12.800000\n",
            "Social Media                  16    125        12.800000\n",
            "Trade Show                    10     84        11.904762\n"
          ]
        },
        {
          "output_type": "stream",
          "name": "stderr",
          "text": [
            "<ipython-input-14-ee602b66a268>:2: SettingWithCopyWarning: \n",
            "A value is trying to be set on a copy of a slice from a DataFrame.\n",
            "Try using .loc[row_indexer,col_indexer] = value instead\n",
            "\n",
            "See the caveats in the documentation: https://pandas.pydata.org/pandas-docs/stable/user_guide/indexing.html#returning-a-view-versus-a-copy\n",
            "  df_cleaned.loc[:, \"New Prospect Source\"] = df_cleaned[\"Opt-In Source\"].apply(New_PS)\n"
          ]
        }
      ]
    },
    {
      "cell_type": "markdown",
      "source": [
        "**Plot Distribution per Role**"
      ],
      "metadata": {
        "id": "DMGBS74N0XAZ"
      }
    },
    {
      "cell_type": "code",
      "source": [
        "# Example: Check distribution of Prospect Status per Job Title\n",
        "plt.figure(figsize=(10, 6))\n",
        "sns.countplot(data=df_cleaned, x=\"Role\", hue=\"Prospect Status\")\n",
        "plt.xticks(rotation=45)\n",
        "plt.title(\"Job Title vs Prospect Status\")\n",
        "plt.show()"
      ],
      "metadata": {
        "colab": {
          "base_uri": "https://localhost:8080/",
          "height": 635
        },
        "id": "75mPgWAKQQCI",
        "outputId": "435c56b6-2cf9-4950-ec3f-cc712e309eb8"
      },
      "execution_count": 15,
      "outputs": [
        {
          "output_type": "display_data",
          "data": {
            "text/plain": [
              "<Figure size 1000x600 with 1 Axes>"
            ],
            "image/png": "[encoded data removed]"
          },
          "metadata": {}
        }
      ]
    },
    {
      "cell_type": "code",
      "source": [
        "print((df_cleaned[df_cleaned[\"Role\"] == \"Decision Maker\"][\"Role\"]).count())\n",
        "print((df_cleaned[df_cleaned[\"Role\"] == \"Practioneer\"][\"Role\"]).count())\n",
        "print((df_cleaned[df_cleaned[\"Role\"] == \"Executive\"][\"Role\"]).count())"
      ],
      "metadata": {
        "colab": {
          "base_uri": "https://localhost:8080/"
        },
        "id": "OzFD7Ev_Qpi_",
        "outputId": "03aa393c-1410-46e5-9745-7d9d82dbc7f1"
      },
      "execution_count": 16,
      "outputs": [
        {
          "output_type": "stream",
          "name": "stdout",
          "text": [
            "156\n",
            "675\n",
            "44\n"
          ]
        }
      ]
    },
    {
      "cell_type": "code",
      "source": [
        "c= df_cleaned[\n",
        "    (df_cleaned[\"Prospect Status\"] == \"Registered\") &\n",
        "    (df_cleaned[\"Role\"] == \"Practioneer\")\n",
        "].groupby(\"Prospect Source\")[\"Prospect Status\"].count()\n",
        "\n",
        "d= df_cleaned[\n",
        "    (df_cleaned[\"Prospect Status\"] == \"Registered\") &\n",
        "    (df_cleaned[\"Role\"] == \"Decision Maker\")\n",
        "].groupby(\"Prospect Source\")[\"Prospect Status\"].count()\n",
        "\n",
        "e= df_cleaned[\n",
        "    (df_cleaned[\"Prospect Status\"] == \"Registered\") &\n",
        "    (df_cleaned[\"Role\"] == \"Executive\")\n",
        "].groupby(\"Prospect Source\")[\"Prospect Status\"].count()\n",
        "\n",
        "\n",
        "merged_df1 = pd.merge(c, d, on=\"Prospect Source\", how=\"left\")\n",
        "\n",
        "merged_df2 = pd.merge(merged_df1, e, on=\"Prospect Source\", how=\"left\")\n",
        "\n",
        "merged_df2 = merged_df2.rename(columns={\"Prospect Status_x\": \"Practioneer\", \"Prospect Status_y\": \"Decision Maker\",\"Prospect Status\": \"Executive\"})\n",
        "merged_df2=merged_df2.fillna(0)\n",
        "print(merged_df2)\n",
        "#print(merged_df2.sum())"
      ],
      "metadata": {
        "colab": {
          "base_uri": "https://localhost:8080/"
        },
        "id": "YCKVjpdOsiHf",
        "outputId": "d2423c8c-837e-46ae-ff5c-c86ff11aa334"
      },
      "execution_count": 17,
      "outputs": [
        {
          "output_type": "stream",
          "name": "stdout",
          "text": [
            "                 Practioneer  Decision Maker  Executive\n",
            "Prospect Source                                        \n",
            "Advertisement             75               9        6.0\n",
            "Referral                   6               4        0.0\n",
            "Trade Show                10               1        0.0\n"
          ]
        }
      ]
    },
    {
      "cell_type": "code",
      "source": [
        "\n",
        "# merged_df = pd.merge(merged_df, merged_df2, on=\"Prospect Source\", how=\"left\")\n",
        "\n",
        "# merged_df=merged_df.drop(\"Executive\",axis=1)\n",
        "print(merged_df)"
      ],
      "metadata": {
        "colab": {
          "base_uri": "https://localhost:8080/"
        },
        "id": "CRHfPXS5xZta",
        "outputId": "a7232950-ea7c-4932-d14d-e3f0cabd91d5"
      },
      "execution_count": 18,
      "outputs": [
        {
          "output_type": "stream",
          "name": "stdout",
          "text": [
            "                     Successfull  Total  Conversion_rate\n",
            "New Prospect Source                                     \n",
            "Online                        69    541        12.754159\n",
            "Referral                      16    125        12.800000\n",
            "Social Media                  16    125        12.800000\n",
            "Trade Show                    10     84        11.904762\n"
          ]
        }
      ]
    },
    {
      "cell_type": "markdown",
      "source": [
        "**Conversion Rate per Op-In Source**"
      ],
      "metadata": {
        "id": "dEIS6l6o0lPt"
      }
    },
    {
      "cell_type": "code",
      "source": [
        "c=d=e=[]\n",
        "c= df_cleaned[\n",
        "    (df_cleaned[\"Prospect Status\"] == \"Registered\") &\n",
        "    (df_cleaned[\"Prospect Source\"] == \"Advertisement\")\n",
        "].groupby(\"Opt-In Source\")[\"Prospect Status\"].count()\n",
        "\n",
        "d= df_cleaned[\n",
        "    (df_cleaned[\"Prospect Status\"] == \"Registered\") &\n",
        "     (df_cleaned[\"Prospect Source\"] == \"Referral\")\n",
        "].groupby(\"Opt-In Source\")[\"Prospect Status\"].count()\n",
        "\n",
        "e= df_cleaned[\n",
        "    (df_cleaned[\"Prospect Status\"] == \"Registered\") &\n",
        "     (df_cleaned[\"Prospect Source\"] == \"Social Media\")\n",
        "].groupby(\"Opt-In Source\")[\"Prospect Status\"].count()\n",
        "\n",
        "f= df_cleaned[\n",
        "    (df_cleaned[\"Prospect Status\"] == \"Registered\") &\n",
        "     (df_cleaned[\"Prospect Source\"] == \"Trade Show\")\n",
        "].groupby(\"Opt-In Source\")[\"Prospect Status\"].count()\n",
        "\n",
        "merged_df1=merged_df2=[]\n",
        "merged_df1 = pd.merge(c, d, on=\"Opt-In Source\", how=\"left\")\n",
        "merged_df1 = (merged_df1.rename(columns={\"Prospect Status_x\": \"Adv %\", \"Prospect Status_y\": \"Referral %\"})).fillna(0)\n",
        "merged_df2 = pd.merge(merged_df1, e, on=\"Opt-In Source\", how=\"left\")\n",
        "merged_df2 = (merged_df2.rename(columns={\"Prospect Status\": \"Social Media %\"})).fillna(0)\n",
        "merged_df3 = pd.merge(merged_df2, f, on=\"Opt-In Source\", how=\"left\")\n",
        "merged_df3 = (merged_df3.rename(columns={\"Prospect Status\": \"Trade Show %\"})).fillna(0)\n",
        "\n",
        "\n",
        "merged_df3['Adv %']=round(merged_df3['Adv %']/merged_df3['Adv %'].sum()*100,1)\n",
        "merged_df3['Referral %']=round(merged_df3['Referral %']/merged_df3['Referral %'].sum()*100,1)\n",
        "merged_df3['Social Media %']=round(merged_df3['Social Media %']/merged_df3['Social Media %'].sum()*100,1)\n",
        "merged_df3['Trade Show %']=round(merged_df3['Trade Show %']/merged_df3['Trade Show %'].sum()*100,1)\n",
        "\n",
        "\n",
        "print(merged_df3)"
      ],
      "metadata": {
        "colab": {
          "base_uri": "https://localhost:8080/"
        },
        "id": "WKHU-AybrUR9",
        "outputId": "28582c8d-886b-4988-c23b-f475763f8f7f"
      },
      "execution_count": 19,
      "outputs": [
        {
          "output_type": "stream",
          "name": "stdout",
          "text": [
            "                         Adv %  Referral %  Social Media %  Trade Show %\n",
            "Opt-In Source                                                           \n",
            "email subscription        12.2        10.0             NaN           9.1\n",
            "event registration         7.8        30.0             NaN           0.0\n",
            "newsletter subscription   15.6        10.0             NaN          18.2\n",
            "online contest entry      13.3        10.0             NaN          18.2\n",
            "online purchase           10.0        20.0             NaN          18.2\n",
            "referral program          15.6         0.0             NaN          18.2\n",
            "social media campaign     14.4        10.0             NaN          18.2\n",
            "website form              11.1        10.0             NaN           0.0\n"
          ]
        }
      ]
    },
    {
      "cell_type": "code",
      "source": [
        "# Just to check types\n",
        "\n",
        "#df_cleaned.dtypes\n"
      ],
      "metadata": {
        "id": "ZGKjQ0teuV3w"
      },
      "execution_count": 20,
      "outputs": []
    },
    {
      "cell_type": "markdown",
      "source": [
        "**Create Season Classification**"
      ],
      "metadata": {
        "id": "K1J7gYBY0xca"
      }
    },
    {
      "cell_type": "code",
      "source": [
        "def assign_season(name):\n",
        "    name = name.lower()\n",
        "    if \"summer\" in name:\n",
        "        return \"Summer\"\n",
        "    elif \"winter\" in name:\n",
        "        return \"Winter\"\n",
        "    elif \"fall\" in name:\n",
        "        return \"Fall\"\n",
        "    elif \"spring\" in name:\n",
        "        return \"Spring\"\n",
        "    else:\n",
        "        return \"Special Day\"\n",
        "\n",
        "# Apply the function\n",
        "df_cleaned[\"Season_Filtered\"] = df_cleaned[\"Campaign Name\"].apply(assign_season)\n",
        "df_cleaned"
      ],
      "metadata": {
        "colab": {
          "base_uri": "https://localhost:8080/",
          "height": 1000
        },
        "id": "VhqT8XYCscn4",
        "outputId": "34a8238a-83c8-4c39-d73f-8baa2f60dbb0"
      },
      "execution_count": 21,
      "outputs": [
        {
          "output_type": "stream",
          "name": "stderr",
          "text": [
            "<ipython-input-21-819c5d37dcd5>:15: SettingWithCopyWarning: \n",
            "A value is trying to be set on a copy of a slice from a DataFrame.\n",
            "Try using .loc[row_indexer,col_indexer] = value instead\n",
            "\n",
            "See the caveats in the documentation: https://pandas.pydata.org/pandas-docs/stable/user_guide/indexing.html#returning-a-view-versus-a-copy\n",
            "  df_cleaned[\"Season_Filtered\"] = df_cleaned[\"Campaign Name\"].apply(assign_season)\n",
            "/usr/local/lib/python3.11/dist-packages/google/colab/_dataframe_summarizer.py:88: UserWarning: Could not infer format, so each element will be parsed individually, falling back to `dateutil`. To ensure parsing is consistent and as-expected, please specify a format.\n",
            "  cast_date_col = pd.to_datetime(column, errors=\"coerce\")\n"
          ]
        },
        {
          "output_type": "execute_result",
          "data": {
            "text/plain": [
              "                                       Campaign ID            Campaign Name  \\\n",
              "0    FY23-Q3-global-PROD461-valentines_day_special  Valentine's Day Special   \n",
              "1    FY23-Q3-global-PROD461-annual_clearance_event   Annual Clearance Event   \n",
              "2        FY23-Q3-global-PROD461-spring_flower_sale       Spring Flower Sale   \n",
              "3         FY23-Q3-global-PROD461-spring_break_sale        Spring Break Sale   \n",
              "4        FY23-Q3-global-PROD461-spring_flower_sale       Spring Flower Sale   \n",
              "..                                             ...                      ...   \n",
              "992  FY23-Q3-global-PROD461-winter_wonderland_sale   Winter Wonderland Sale   \n",
              "993   FY23-Q3-global-PROD461-annual_fall_clearance    Annual Fall Clearance   \n",
              "994  FY23-Q3-global-PROD461-summer_savings_bonanza   Summer Savings Bonanza   \n",
              "997       FY23-Q3-global-PROD461-fall_into_savings        Fall Into Savings   \n",
              "998    FY23-Q3-global-PROD461-cyber_monday_blowout     Cyber Monday Blowout   \n",
              "\n",
              "    Prospect Status          Account ID       Account Name  \\\n",
              "0           No Show  0014M0000mXuCYxQAN  Alpha Innovations   \n",
              "1         Responded  0014M0000mXuCYxQAN  Alpha Innovations   \n",
              "2           No Show  0014M0000mXuCYxQAN  Alpha Innovations   \n",
              "3           No Show  0014M0000mXuCYxQAN  Alpha Innovations   \n",
              "4           No Show  0014M0000mXuCYxQAN  Alpha Innovations   \n",
              "..              ...                 ...                ...   \n",
              "992         No Show  0014M0000Ri9Qe6QAF   Zenith Solutions   \n",
              "993      Registered  0014M0000Ri9Qe6QAF   Zenith Solutions   \n",
              "994       Responded  0014M0000Ri9Qe6QAF   Zenith Solutions   \n",
              "997         No Show  0014M0000Ri9Qe6QAF   Zenith Solutions   \n",
              "998         No Show  0014M0000Ri9Qe6QAF   Zenith Solutions   \n",
              "\n",
              "                  domain Country         Prospect ID Opt-In  \\\n",
              "0         alphainnov.biz   Italy  0034M0000qUkSoNQAV    Yes   \n",
              "1         alphainnov.biz   Italy  0034M0000HOb6cnQAD    Yes   \n",
              "2         alphainnov.biz   Italy  0034M0000rRLR2bQAX    Yes   \n",
              "3         alphainnov.biz   Italy  0034M0000hRZsn9QAD    Yes   \n",
              "4         alphainnov.biz   Italy  0034M0000pVvfBmQAJ    Yes   \n",
              "..                   ...     ...                 ...    ...   \n",
              "992  zenithsolutions.net   China  0034M0000nqG3J5QAJ    Yes   \n",
              "993  zenithsolutions.net   China  0034M0000o2qXAbQAI    Yes   \n",
              "994  zenithsolutions.net   China  0034M0000qZWq4GQAX    Yes   \n",
              "997  zenithsolutions.net   China  0034M0000qVJd4KQAZ    Yes   \n",
              "998  zenithsolutions.net   China  0034M0000o1vNNiQAM    Yes   \n",
              "\n",
              "             Opt-In Source    Opt-In Timestamp Opt-Out Timestamp  \\\n",
              "0          online purchase 2023-06-23 06:11:00               NaN   \n",
              "1    social media campaign                 NaT     11/26/23 6:11   \n",
              "2         referral program                 NaT      7/21/23 6:11   \n",
              "3       event registration                 NaT      7/11/23 6:11   \n",
              "4       event registration                 NaT     11/26/23 6:11   \n",
              "..                     ...                 ...               ...   \n",
              "992   online contest entry 2023-05-28 06:11:00               NaN   \n",
              "993       referral program 2023-11-04 06:11:00               NaN   \n",
              "994        online purchase 2023-02-05 06:11:00               NaN   \n",
              "997       referral program 2023-06-15 06:11:00               NaN   \n",
              "998  social media campaign 2023-08-10 06:11:00               NaN   \n",
              "\n",
              "                                       Job Title Prospect Source         Role  \\\n",
              "0               Senior Managed Care Social Media   Advertisement  Practioneer   \n",
              "1                                 SENIOR ANALYST      Trade Show  Practioneer   \n",
              "2       Data- Bij DE Gemeente Leeuwarden Analyst        Referral  Practioneer   \n",
              "3                                   Data Analyst      Trade Show  Practioneer   \n",
              "4            Data Scientist / Analyst / Engineer   Advertisement  Practioneer   \n",
              "..                                           ...             ...          ...   \n",
              "992               Senior Security Design Analyst   Advertisement  Practioneer   \n",
              "993                     Customer Insight Analyst   Advertisement  Practioneer   \n",
              "994                    Client Experience Analyst   Advertisement  Practioneer   \n",
              "997     Systems Operations Analyst II (Americas)   Advertisement  Practioneer   \n",
              "998  Tools & Technology Lead Senior Data Analyst   Advertisement  Practioneer   \n",
              "\n",
              "    New Prospect Source Season_Filtered  \n",
              "0                Online     Special Day  \n",
              "1          Social Media     Special Day  \n",
              "2              Referral          Spring  \n",
              "3            Trade Show          Spring  \n",
              "4            Trade Show          Spring  \n",
              "..                  ...             ...  \n",
              "992              Online          Winter  \n",
              "993            Referral            Fall  \n",
              "994              Online          Summer  \n",
              "997            Referral            Fall  \n",
              "998        Social Media     Special Day  \n",
              "\n",
              "[875 rows x 17 columns]"
            ],
            "text/html": [
              "\n",
              "  <div id=\"df-b946949b-02b6-481e-8bf3-793aa622bf54\" class=\"colab-df-container\">\n",
              "    <div>\n",
              "<style scoped>\n",
              "    .dataframe tbody tr th:only-of-type {\n",
              "        vertical-align: middle;\n",
              "    }\n",
              "\n",
              "    .dataframe tbody tr th {\n",
              "        vertical-align: top;\n",
              "    }\n",
              "\n",
              "    .dataframe thead th {\n",
              "        text-align: right;\n",
              "    }\n",
              "</style>\n",
              "<table border=\"1\" class=\"dataframe\">\n",
              "  <thead>\n",
              "    <tr style=\"text-align: right;\">\n",
              "      <th></th>\n",
              "      <th>Campaign ID</th>\n",
              "      <th>Campaign Name</th>\n",
              "      <th>Prospect Status</th>\n",
              "      <th>Account ID</th>\n",
              "      <th>Account Name</th>\n",
              "      <th>domain</th>\n",
              "      <th>Country</th>\n",
              "      <th>Prospect ID</th>\n",
              "      <th>Opt-In</th>\n",
              "      <th>Opt-In Source</th>\n",
              "      <th>Opt-In Timestamp</th>\n",
              "      <th>Opt-Out Timestamp</th>\n",
              "      <th>Job Title</th>\n",
              "      <th>Prospect Source</th>\n",
              "      <th>Role</th>\n",
              "      <th>New Prospect Source</th>\n",
              "      <th>Season_Filtered</th>\n",
              "    </tr>\n",
              "  </thead>\n",
              "  <tbody>\n",
              "    <tr>\n",
              "      <th>0</th>\n",
              "      <td>FY23-Q3-global-PROD461-valentines_day_special</td>\n",
              "      <td>Valentine's Day Special</td>\n",
              "      <td>No Show</td>\n",
              "      <td>0014M0000mXuCYxQAN</td>\n",
              "      <td>Alpha Innovations</td>\n",
              "      <td>alphainnov.biz</td>\n",
              "      <td>Italy</td>\n",
              "      <td>0034M0000qUkSoNQAV</td>\n",
              "      <td>Yes</td>\n",
              "      <td>online purchase</td>\n",
              "      <td>2023-06-23 06:11:00</td>\n",
              "      <td>NaN</td>\n",
              "      <td>Senior Managed Care Social Media</td>\n",
              "      <td>Advertisement</td>\n",
              "      <td>Practioneer</td>\n",
              "      <td>Online</td>\n",
              "      <td>Special Day</td>\n",
              "    </tr>\n",
              "    <tr>\n",
              "      <th>1</th>\n",
              "      <td>FY23-Q3-global-PROD461-annual_clearance_event</td>\n",
              "      <td>Annual Clearance Event</td>\n",
              "      <td>Responded</td>\n",
              "      <td>0014M0000mXuCYxQAN</td>\n",
              "      <td>Alpha Innovations</td>\n",
              "      <td>alphainnov.biz</td>\n",
              "      <td>Italy</td>\n",
              "      <td>0034M0000HOb6cnQAD</td>\n",
              "      <td>Yes</td>\n",
              "      <td>social media campaign</td>\n",
              "      <td>NaT</td>\n",
              "      <td>11/26/23 6:11</td>\n",
              "      <td>SENIOR ANALYST</td>\n",
              "      <td>Trade Show</td>\n",
              "      <td>Practioneer</td>\n",
              "      <td>Social Media</td>\n",
              "      <td>Special Day</td>\n",
              "    </tr>\n",
              "    <tr>\n",
              "      <th>2</th>\n",
              "      <td>FY23-Q3-global-PROD461-spring_flower_sale</td>\n",
              "      <td>Spring Flower Sale</td>\n",
              "      <td>No Show</td>\n",
              "      <td>0014M0000mXuCYxQAN</td>\n",
              "      <td>Alpha Innovations</td>\n",
              "      <td>alphainnov.biz</td>\n",
              "      <td>Italy</td>\n",
              "      <td>0034M0000rRLR2bQAX</td>\n",
              "      <td>Yes</td>\n",
              "      <td>referral program</td>\n",
              "      <td>NaT</td>\n",
              "      <td>7/21/23 6:11</td>\n",
              "      <td>Data- Bij DE Gemeente Leeuwarden Analyst</td>\n",
              "      <td>Referral</td>\n",
              "      <td>Practioneer</td>\n",
              "      <td>Referral</td>\n",
              "      <td>Spring</td>\n",
              "    </tr>\n",
              "    <tr>\n",
              "      <th>3</th>\n",
              "      <td>FY23-Q3-global-PROD461-spring_break_sale</td>\n",
              "      <td>Spring Break Sale</td>\n",
              "      <td>No Show</td>\n",
              "      <td>0014M0000mXuCYxQAN</td>\n",
              "      <td>Alpha Innovations</td>\n",
              "      <td>alphainnov.biz</td>\n",
              "      <td>Italy</td>\n",
              "      <td>0034M0000hRZsn9QAD</td>\n",
              "      <td>Yes</td>\n",
              "      <td>event registration</td>\n",
              "      <td>NaT</td>\n",
              "      <td>7/11/23 6:11</td>\n",
              "      <td>Data Analyst</td>\n",
              "      <td>Trade Show</td>\n",
              "      <td>Practioneer</td>\n",
              "      <td>Trade Show</td>\n",
              "      <td>Spring</td>\n",
              "    </tr>\n",
              "    <tr>\n",
              "      <th>4</th>\n",
              "      <td>FY23-Q3-global-PROD461-spring_flower_sale</td>\n",
              "      <td>Spring Flower Sale</td>\n",
              "      <td>No Show</td>\n",
              "      <td>0014M0000mXuCYxQAN</td>\n",
              "      <td>Alpha Innovations</td>\n",
              "      <td>alphainnov.biz</td>\n",
              "      <td>Italy</td>\n",
              "      <td>0034M0000pVvfBmQAJ</td>\n",
              "      <td>Yes</td>\n",
              "      <td>event registration</td>\n",
              "      <td>NaT</td>\n",
              "      <td>11/26/23 6:11</td>\n",
              "      <td>Data Scientist / Analyst / Engineer</td>\n",
              "      <td>Advertisement</td>\n",
              "      <td>Practioneer</td>\n",
              "      <td>Trade Show</td>\n",
              "      <td>Spring</td>\n",
              "    </tr>\n",
              "    <tr>\n",
              "      <th>...</th>\n",
              "      <td>...</td>\n",
              "      <td>...</td>\n",
              "      <td>...</td>\n",
              "      <td>...</td>\n",
              "      <td>...</td>\n",
              "      <td>...</td>\n",
              "      <td>...</td>\n",
              "      <td>...</td>\n",
              "      <td>...</td>\n",
              "      <td>...</td>\n",
              "      <td>...</td>\n",
              "      <td>...</td>\n",
              "      <td>...</td>\n",
              "      <td>...</td>\n",
              "      <td>...</td>\n",
              "      <td>...</td>\n",
              "      <td>...</td>\n",
              "    </tr>\n",
              "    <tr>\n",
              "      <th>992</th>\n",
              "      <td>FY23-Q3-global-PROD461-winter_wonderland_sale</td>\n",
              "      <td>Winter Wonderland Sale</td>\n",
              "      <td>No Show</td>\n",
              "      <td>0014M0000Ri9Qe6QAF</td>\n",
              "      <td>Zenith Solutions</td>\n",
              "      <td>zenithsolutions.net</td>\n",
              "      <td>China</td>\n",
              "      <td>0034M0000nqG3J5QAJ</td>\n",
              "      <td>Yes</td>\n",
              "      <td>online contest entry</td>\n",
              "      <td>2023-05-28 06:11:00</td>\n",
              "      <td>NaN</td>\n",
              "      <td>Senior Security Design Analyst</td>\n",
              "      <td>Advertisement</td>\n",
              "      <td>Practioneer</td>\n",
              "      <td>Online</td>\n",
              "      <td>Winter</td>\n",
              "    </tr>\n",
              "    <tr>\n",
              "      <th>993</th>\n",
              "      <td>FY23-Q3-global-PROD461-annual_fall_clearance</td>\n",
              "      <td>Annual Fall Clearance</td>\n",
              "      <td>Registered</td>\n",
              "      <td>0014M0000Ri9Qe6QAF</td>\n",
              "      <td>Zenith Solutions</td>\n",
              "      <td>zenithsolutions.net</td>\n",
              "      <td>China</td>\n",
              "      <td>0034M0000o2qXAbQAI</td>\n",
              "      <td>Yes</td>\n",
              "      <td>referral program</td>\n",
              "      <td>2023-11-04 06:11:00</td>\n",
              "      <td>NaN</td>\n",
              "      <td>Customer Insight Analyst</td>\n",
              "      <td>Advertisement</td>\n",
              "      <td>Practioneer</td>\n",
              "      <td>Referral</td>\n",
              "      <td>Fall</td>\n",
              "    </tr>\n",
              "    <tr>\n",
              "      <th>994</th>\n",
              "      <td>FY23-Q3-global-PROD461-summer_savings_bonanza</td>\n",
              "      <td>Summer Savings Bonanza</td>\n",
              "      <td>Responded</td>\n",
              "      <td>0014M0000Ri9Qe6QAF</td>\n",
              "      <td>Zenith Solutions</td>\n",
              "      <td>zenithsolutions.net</td>\n",
              "      <td>China</td>\n",
              "      <td>0034M0000qZWq4GQAX</td>\n",
              "      <td>Yes</td>\n",
              "      <td>online purchase</td>\n",
              "      <td>2023-02-05 06:11:00</td>\n",
              "      <td>NaN</td>\n",
              "      <td>Client Experience Analyst</td>\n",
              "      <td>Advertisement</td>\n",
              "      <td>Practioneer</td>\n",
              "      <td>Online</td>\n",
              "      <td>Summer</td>\n",
              "    </tr>\n",
              "    <tr>\n",
              "      <th>997</th>\n",
              "      <td>FY23-Q3-global-PROD461-fall_into_savings</td>\n",
              "      <td>Fall Into Savings</td>\n",
              "      <td>No Show</td>\n",
              "      <td>0014M0000Ri9Qe6QAF</td>\n",
              "      <td>Zenith Solutions</td>\n",
              "      <td>zenithsolutions.net</td>\n",
              "      <td>China</td>\n",
              "      <td>0034M0000qVJd4KQAZ</td>\n",
              "      <td>Yes</td>\n",
              "      <td>referral program</td>\n",
              "      <td>2023-06-15 06:11:00</td>\n",
              "      <td>NaN</td>\n",
              "      <td>Systems Operations Analyst II (Americas)</td>\n",
              "      <td>Advertisement</td>\n",
              "      <td>Practioneer</td>\n",
              "      <td>Referral</td>\n",
              "      <td>Fall</td>\n",
              "    </tr>\n",
              "    <tr>\n",
              "      <th>998</th>\n",
              "      <td>FY23-Q3-global-PROD461-cyber_monday_blowout</td>\n",
              "      <td>Cyber Monday Blowout</td>\n",
              "      <td>No Show</td>\n",
              "      <td>0014M0000Ri9Qe6QAF</td>\n",
              "      <td>Zenith Solutions</td>\n",
              "      <td>zenithsolutions.net</td>\n",
              "      <td>China</td>\n",
              "      <td>0034M0000o1vNNiQAM</td>\n",
              "      <td>Yes</td>\n",
              "      <td>social media campaign</td>\n",
              "      <td>2023-08-10 06:11:00</td>\n",
              "      <td>NaN</td>\n",
              "      <td>Tools &amp; Technology Lead Senior Data Analyst</td>\n",
              "      <td>Advertisement</td>\n",
              "      <td>Practioneer</td>\n",
              "      <td>Social Media</td>\n",
              "      <td>Special Day</td>\n",
              "    </tr>\n",
              "  </tbody>\n",
              "</table>\n",
              "<p>875 rows × 17 columns</p>\n",
              "</div>\n",
              "    <div class=\"colab-df-buttons\">\n",
              "\n",
              "  <div class=\"colab-df-container\">\n",
              "    <button class=\"colab-df-convert\" onclick=\"convertToInteractive('df-b946949b-02b6-481e-8bf3-793aa622bf54')\"\n",
              "            title=\"Convert this dataframe to an interactive table.\"\n",
              "            style=\"display:none;\">\n",
              "\n",
              "  <svg xmlns=\"http://www.w3.org/2000/svg\" height=\"24px\" viewBox=\"0 -960 960 960\">\n",
              "    <path d=\"M120-120v-720h720v720H120Zm60-500h600v-160H180v160Zm220 220h160v-160H400v160Zm0 220h160v-160H400v160ZM180-400h160v-160H180v160Zm440 0h160v-160H620v160ZM180-180h160v-160H180v160Zm440 0h160v-160H620v160Z\"/>\n",
              "  </svg>\n",
              "    </button>\n",
              "\n",
              "  <style>\n",
              "    .colab-df-container {\n",
              "      display:flex;\n",
              "      gap: 12px;\n",
              "    }\n",
              "\n",
              "    .colab-df-convert {\n",
              "      background-color: #E8F0FE;\n",
              "      border: none;\n",
              "      border-radius: 50%;\n",
              "      cursor: pointer;\n",
              "      display: none;\n",
              "      fill: #1967D2;\n",
              "      height: 32px;\n",
              "      padding: 0 0 0 0;\n",
              "      width: 32px;\n",
              "    }\n",
              "\n",
              "    .colab-df-convert:hover {\n",
              "      background-color: #E2EBFA;\n",
              "      box-shadow: 0px 1px 2px rgba(60, 64, 67, 0.3), 0px 1px 3px 1px rgba(60, 64, 67, 0.15);\n",
              "      fill: #174EA6;\n",
              "    }\n",
              "\n",
              "    .colab-df-buttons div {\n",
              "      margin-bottom: 4px;\n",
              "    }\n",
              "\n",
              "    [theme=dark] .colab-df-convert {\n",
              "      background-color: #3B4455;\n",
              "      fill: #D2E3FC;\n",
              "    }\n",
              "\n",
              "    [theme=dark] .colab-df-convert:hover {\n",
              "      background-color: #434B5C;\n",
              "      box-shadow: 0px 1px 3px 1px rgba(0, 0, 0, 0.15);\n",
              "      filter: drop-shadow(0px 1px 2px rgba(0, 0, 0, 0.3));\n",
              "      fill: #FFFFFF;\n",
              "    }\n",
              "  </style>\n",
              "\n",
              "    <script>\n",
              "      const buttonEl =\n",
              "        document.querySelector('#df-b946949b-02b6-481e-8bf3-793aa622bf54 button.colab-df-convert');\n",
              "      buttonEl.style.display =\n",
              "        google.colab.kernel.accessAllowed ? 'block' : 'none';\n",
              "\n",
              "      async function convertToInteractive(key) {\n",
              "        const element = document.querySelector('#df-b946949b-02b6-481e-8bf3-793aa622bf54');\n",
              "        const dataTable =\n",
              "          await google.colab.kernel.invokeFunction('convertToInteractive',\n",
              "                                                    [key], {});\n",
              "        if (!dataTable) return;\n",
              "\n",
              "        const docLinkHtml = 'Like what you see? Visit the ' +\n",
              "          '<a target=\"_blank\" href=https://colab.research.google.com/notebooks/data_table.ipynb>data table notebook</a>'\n",
              "          + ' to learn more about interactive tables.';\n",
              "        element.innerHTML = '';\n",
              "        dataTable['output_type'] = 'display_data';\n",
              "        await google.colab.output.renderOutput(dataTable, element);\n",
              "        const docLink = document.createElement('div');\n",
              "        docLink.innerHTML = docLinkHtml;\n",
              "        element.appendChild(docLink);\n",
              "      }\n",
              "    </script>\n",
              "  </div>\n",
              "\n",
              "\n",
              "<div id=\"df-fcd735e3-609d-4915-84c9-654914cb38e6\">\n",
              "  <button class=\"colab-df-quickchart\" onclick=\"quickchart('df-fcd735e3-609d-4915-84c9-654914cb38e6')\"\n",
              "            title=\"Suggest charts\"\n",
              "            style=\"display:none;\">\n",
              "\n",
              "<svg xmlns=\"http://www.w3.org/2000/svg\" height=\"24px\"viewBox=\"0 0 24 24\"\n",
              "     width=\"24px\">\n",
              "    <g>\n",
              "        <path d=\"M19 3H5c-1.1 0-2 .9-2 2v14c0 1.1.9 2 2 2h14c1.1 0 2-.9 2-2V5c0-1.1-.9-2-2-2zM9 17H7v-7h2v7zm4 0h-2V7h2v10zm4 0h-2v-4h2v4z\"/>\n",
              "    </g>\n",
              "</svg>\n",
              "  </button>\n",
              "\n",
              "<style>\n",
              "  .colab-df-quickchart {\n",
              "      --bg-color: #E8F0FE;\n",
              "      --fill-color: #1967D2;\n",
              "      --hover-bg-color: #E2EBFA;\n",
              "      --hover-fill-color: #174EA6;\n",
              "      --disabled-fill-color: #AAA;\n",
              "      --disabled-bg-color: #DDD;\n",
              "  }\n",
              "\n",
              "  [theme=dark] .colab-df-quickchart {\n",
              "      --bg-color: #3B4455;\n",
              "      --fill-color: #D2E3FC;\n",
              "      --hover-bg-color: #434B5C;\n",
              "      --hover-fill-color: #FFFFFF;\n",
              "      --disabled-bg-color: #3B4455;\n",
              "      --disabled-fill-color: #666;\n",
              "  }\n",
              "\n",
              "  .colab-df-quickchart {\n",
              "    background-color: var(--bg-color);\n",
              "    border: none;\n",
              "    border-radius: 50%;\n",
              "    cursor: pointer;\n",
              "    display: none;\n",
              "    fill: var(--fill-color);\n",
              "    height: 32px;\n",
              "    padding: 0;\n",
              "    width: 32px;\n",
              "  }\n",
              "\n",
              "  .colab-df-quickchart:hover {\n",
              "    background-color: var(--hover-bg-color);\n",
              "    box-shadow: 0 1px 2px rgba(60, 64, 67, 0.3), 0 1px 3px 1px rgba(60, 64, 67, 0.15);\n",
              "    fill: var(--button-hover-fill-color);\n",
              "  }\n",
              "\n",
              "  .colab-df-quickchart-complete:disabled,\n",
              "  .colab-df-quickchart-complete:disabled:hover {\n",
              "    background-color: var(--disabled-bg-color);\n",
              "    fill: var(--disabled-fill-color);\n",
              "    box-shadow: none;\n",
              "  }\n",
              "\n",
              "  .colab-df-spinner {\n",
              "    border: 2px solid var(--fill-color);\n",
              "    border-color: transparent;\n",
              "    border-bottom-color: var(--fill-color);\n",
              "    animation:\n",
              "      spin 1s steps(1) infinite;\n",
              "  }\n",
              "\n",
              "  @keyframes spin {\n",
              "    0% {\n",
              "      border-color: transparent;\n",
              "      border-bottom-color: var(--fill-color);\n",
              "      border-left-color: var(--fill-color);\n",
              "    }\n",
              "    20% {\n",
              "      border-color: transparent;\n",
              "      border-left-color: var(--fill-color);\n",
              "      border-top-color: var(--fill-color);\n",
              "    }\n",
              "    30% {\n",
              "      border-color: transparent;\n",
              "      border-left-color: var(--fill-color);\n",
              "      border-top-color: var(--fill-color);\n",
              "      border-right-color: var(--fill-color);\n",
              "    }\n",
              "    40% {\n",
              "      border-color: transparent;\n",
              "      border-right-color: var(--fill-color);\n",
              "      border-top-color: var(--fill-color);\n",
              "    }\n",
              "    60% {\n",
              "      border-color: transparent;\n",
              "      border-right-color: var(--fill-color);\n",
              "    }\n",
              "    80% {\n",
              "      border-color: transparent;\n",
              "      border-right-color: var(--fill-color);\n",
              "      border-bottom-color: var(--fill-color);\n",
              "    }\n",
              "    90% {\n",
              "      border-color: transparent;\n",
              "      border-bottom-color: var(--fill-color);\n",
              "    }\n",
              "  }\n",
              "</style>\n",
              "\n",
              "  <script>\n",
              "    async function quickchart(key) {\n",
              "      const quickchartButtonEl =\n",
              "        document.querySelector('#' + key + ' button');\n",
              "      quickchartButtonEl.disabled = true;  // To prevent multiple clicks.\n",
              "      quickchartButtonEl.classList.add('colab-df-spinner');\n",
              "      try {\n",
              "        const charts = await google.colab.kernel.invokeFunction(\n",
              "            'suggestCharts', [key], {});\n",
              "      } catch (error) {\n",
              "        console.error('Error during call to suggestCharts:', error);\n",
              "      }\n",
              "      quickchartButtonEl.classList.remove('colab-df-spinner');\n",
              "      quickchartButtonEl.classList.add('colab-df-quickchart-complete');\n",
              "    }\n",
              "    (() => {\n",
              "      let quickchartButtonEl =\n",
              "        document.querySelector('#df-fcd735e3-609d-4915-84c9-654914cb38e6 button');\n",
              "      quickchartButtonEl.style.display =\n",
              "        google.colab.kernel.accessAllowed ? 'block' : 'none';\n",
              "    })();\n",
              "  </script>\n",
              "</div>\n",
              "\n",
              "  <div id=\"id_748a9d7b-898c-474e-aa31-1710353dbc12\">\n",
              "    <style>\n",
              "      .colab-df-generate {\n",
              "        background-color: #E8F0FE;\n",
              "        border: none;\n",
              "        border-radius: 50%;\n",
              "        cursor: pointer;\n",
              "        display: none;\n",
              "        fill: #1967D2;\n",
              "        height: 32px;\n",
              "        padding: 0 0 0 0;\n",
              "        width: 32px;\n",
              "      }\n",
              "\n",
              "      .colab-df-generate:hover {\n",
              "        background-color: #E2EBFA;\n",
              "        box-shadow: 0px 1px 2px rgba(60, 64, 67, 0.3), 0px 1px 3px 1px rgba(60, 64, 67, 0.15);\n",
              "        fill: #174EA6;\n",
              "      }\n",
              "\n",
              "      [theme=dark] .colab-df-generate {\n",
              "        background-color: #3B4455;\n",
              "        fill: #D2E3FC;\n",
              "      }\n",
              "\n",
              "      [theme=dark] .colab-df-generate:hover {\n",
              "        background-color: #434B5C;\n",
              "        box-shadow: 0px 1px 3px 1px rgba(0, 0, 0, 0.15);\n",
              "        filter: drop-shadow(0px 1px 2px rgba(0, 0, 0, 0.3));\n",
              "        fill: #FFFFFF;\n",
              "      }\n",
              "    </style>\n",
              "    <button class=\"colab-df-generate\" onclick=\"generateWithVariable('df_cleaned')\"\n",
              "            title=\"Generate code using this dataframe.\"\n",
              "            style=\"display:none;\">\n",
              "\n",
              "  <svg xmlns=\"http://www.w3.org/2000/svg\" height=\"24px\"viewBox=\"0 0 24 24\"\n",
              "       width=\"24px\">\n",
              "    <path d=\"M7,19H8.4L18.45,9,17,7.55,7,17.6ZM5,21V16.75L18.45,3.32a2,2,0,0,1,2.83,0l1.4,1.43a1.91,1.91,0,0,1,.58,1.4,1.91,1.91,0,0,1-.58,1.4L9.25,21ZM18.45,9,17,7.55Zm-12,3A5.31,5.31,0,0,0,4.9,8.1,5.31,5.31,0,0,0,1,6.5,5.31,5.31,0,0,0,4.9,4.9,5.31,5.31,0,0,0,6.5,1,5.31,5.31,0,0,0,8.1,4.9,5.31,5.31,0,0,0,12,6.5,5.46,5.46,0,0,0,6.5,12Z\"/>\n",
              "  </svg>\n",
              "    </button>\n",
              "    <script>\n",
              "      (() => {\n",
              "      const buttonEl =\n",
              "        document.querySelector('#id_748a9d7b-898c-474e-aa31-1710353dbc12 button.colab-df-generate');\n",
              "      buttonEl.style.display =\n",
              "        google.colab.kernel.accessAllowed ? 'block' : 'none';\n",
              "\n",
              "      buttonEl.onclick = () => {\n",
              "        google.colab.notebook.generateWithVariable('df_cleaned');\n",
              "      }\n",
              "      })();\n",
              "    </script>\n",
              "  </div>\n",
              "\n",
              "    </div>\n",
              "  </div>\n"
            ],
            "application/vnd.google.colaboratory.intrinsic+json": {
              "type": "dataframe",
              "variable_name": "df_cleaned",
              "summary": "{\n  \"name\": \"df_cleaned\",\n  \"rows\": 875,\n  \"fields\": [\n    {\n      \"column\": \"Campaign ID\",\n      \"properties\": {\n        \"dtype\": \"category\",\n        \"num_unique_values\": 81,\n        \"samples\": [\n          \"FY23-Q3-global-PROD461-winter_wonderland\",\n          \"FY23-Q3-global-PROD461-valentines_day_special\",\n          \"FY23-Q3-global-PROD461-autumn_bounty_sale\"\n        ],\n        \"semantic_type\": \"\",\n        \"description\": \"\"\n      }\n    },\n    {\n      \"column\": \"Campaign Name\",\n      \"properties\": {\n        \"dtype\": \"category\",\n        \"num_unique_values\": 81,\n        \"samples\": [\n          \"Winter Wonderland\",\n          \"Valentine's Day Special\",\n          \"Autumn Bounty Sale\"\n        ],\n        \"semantic_type\": \"\",\n        \"description\": \"\"\n      }\n    },\n    {\n      \"column\": \"Prospect Status\",\n      \"properties\": {\n        \"dtype\": \"category\",\n        \"num_unique_values\": 4,\n        \"samples\": [\n          \"Responded\",\n          \"Attended\",\n          \"No Show\"\n        ],\n        \"semantic_type\": \"\",\n        \"description\": \"\"\n      }\n    },\n    {\n      \"column\": \"Account ID\",\n      \"properties\": {\n        \"dtype\": \"category\",\n        \"num_unique_values\": 119,\n        \"samples\": [\n          \"0014M0000Ry0LPOQA9\",\n          \"0014M0000ZJwBVJQA14\",\n          \"0014M0000Kuiz6SQAR\"\n        ],\n        \"semantic_type\": \"\",\n        \"description\": \"\"\n      }\n    },\n    {\n      \"column\": \"Account Name\",\n      \"properties\": {\n        \"dtype\": \"category\",\n        \"num_unique_values\": 47,\n        \"samples\": [\n          \"Pegasus Solutions\",\n          \"Spectrum Enterprises\",\n          \"Orion Dynamics\"\n        ],\n        \"semantic_type\": \"\",\n        \"description\": \"\"\n      }\n    },\n    {\n      \"column\": \"domain\",\n      \"properties\": {\n        \"dtype\": \"category\",\n        \"num_unique_values\": 50,\n        \"samples\": [\n          \"eclipsetechnologies.biz\",\n          \"solariscorporation.biz\",\n          \"phoenixdyn.biz\"\n        ],\n        \"semantic_type\": \"\",\n        \"description\": \"\"\n      }\n    },\n    {\n      \"column\": \"Country\",\n      \"properties\": {\n        \"dtype\": \"category\",\n        \"num_unique_values\": 13,\n        \"samples\": [\n          \"Germany\",\n          \"Japan\",\n          \"Italy\"\n        ],\n        \"semantic_type\": \"\",\n        \"description\": \"\"\n      }\n    },\n    {\n      \"column\": \"Prospect ID\",\n      \"properties\": {\n        \"dtype\": \"string\",\n        \"num_unique_values\": 873,\n        \"samples\": [\n          \"0034M0000njEM7WQAW\",\n          \"0034M0000tMvz4EQAR\",\n          \"0034M0000pUen4HQAR\"\n        ],\n        \"semantic_type\": \"\",\n        \"description\": \"\"\n      }\n    },\n    {\n      \"column\": \"Opt-In\",\n      \"properties\": {\n        \"dtype\": \"category\",\n        \"num_unique_values\": 2,\n        \"samples\": [\n          \"No\",\n          \"Yes\"\n        ],\n        \"semantic_type\": \"\",\n        \"description\": \"\"\n      }\n    },\n    {\n      \"column\": \"Opt-In Source\",\n      \"properties\": {\n        \"dtype\": \"category\",\n        \"num_unique_values\": 8,\n        \"samples\": [\n          \"social media campaign\",\n          \"online contest entry\"\n        ],\n        \"semantic_type\": \"\",\n        \"description\": \"\"\n      }\n    },\n    {\n      \"column\": \"Opt-In Timestamp\",\n      \"properties\": {\n        \"dtype\": \"date\",\n        \"min\": \"2023-01-20 06:11:00\",\n        \"max\": \"2023-12-18 06:11:00\",\n        \"num_unique_values\": 160,\n        \"samples\": [\n          \"2023-06-01 06:11:00\",\n          \"2023-04-22 06:11:00\"\n        ],\n        \"semantic_type\": \"\",\n        \"description\": \"\"\n      }\n    },\n    {\n      \"column\": \"Opt-Out Timestamp\",\n      \"properties\": {\n        \"dtype\": \"date\",\n        \"min\": \"2023-06-21 06:11:00\",\n        \"max\": \"2025-08-25 06:11:00\",\n        \"num_unique_values\": 25,\n        \"samples\": [\n          \"8/20/25 6:11\",\n          \"12/3/23 6:11\"\n        ],\n        \"semantic_type\": \"\",\n        \"description\": \"\"\n      }\n    },\n    {\n      \"column\": \"Job Title\",\n      \"properties\": {\n        \"dtype\": \"string\",\n        \"num_unique_values\": 644,\n        \"samples\": [\n          \"Global Financial Planning and Analysis and Sustainable Performance.\",\n          \"Senior Businesses Analyst\"\n        ],\n        \"semantic_type\": \"\",\n        \"description\": \"\"\n      }\n    },\n    {\n      \"column\": \"Prospect Source\",\n      \"properties\": {\n        \"dtype\": \"category\",\n        \"num_unique_values\": 4,\n        \"samples\": [\n          \"Trade Show\",\n          \"Social Media\"\n        ],\n        \"semantic_type\": \"\",\n        \"description\": \"\"\n      }\n    },\n    {\n      \"column\": \"Role\",\n      \"properties\": {\n        \"dtype\": \"category\",\n        \"num_unique_values\": 3,\n        \"samples\": [\n          \"Practioneer\",\n          \"Executive\"\n        ],\n        \"semantic_type\": \"\",\n        \"description\": \"\"\n      }\n    },\n    {\n      \"column\": \"New Prospect Source\",\n      \"properties\": {\n        \"dtype\": \"category\",\n        \"num_unique_values\": 4,\n        \"samples\": [\n          \"Social Media\",\n          \"Trade Show\"\n        ],\n        \"semantic_type\": \"\",\n        \"description\": \"\"\n      }\n    },\n    {\n      \"column\": \"Season_Filtered\",\n      \"properties\": {\n        \"dtype\": \"category\",\n        \"num_unique_values\": 5,\n        \"samples\": [\n          \"Spring\",\n          \"Winter\"\n        ],\n        \"semantic_type\": \"\",\n        \"description\": \"\"\n      }\n    }\n  ]\n}"
            }
          },
          "metadata": {},
          "execution_count": 21
        }
      ]
    },
    {
      "cell_type": "markdown",
      "source": [
        "**ML Approach**"
      ],
      "metadata": {
        "id": "lEug304l0cbD"
      }
    },
    {
      "cell_type": "code",
      "source": [
        "filename_='analytics-case-study-data.csv'\n",
        "df = pd.read_csv(filename_)\n",
        "df_cleaned =df.copy()\n",
        "\n",
        "# Cleaning Data and creating new columns\n",
        "df_cleaned[\"Season_Filtered\"] = df_cleaned[\"Campaign Name\"].apply(assign_season)\n",
        "df_cleaned.loc[:, \"Role\"] = df_cleaned[\"Job Title\"].apply(categorize_role)\n",
        "df_cleaned[\"Opt-In Timestamp\"] = pd.to_datetime(df_cleaned[\"Opt-In Timestamp\"], errors=\"coerce\")\n",
        "df_cleaned['Month']=df_cleaned[\"Opt-In Timestamp\"].dt.month\n",
        "df_cleaned = df_cleaned.dropna(subset=['Month'])\n",
        "df_cleaned = df_cleaned.dropna(subset=[\"Opt-In Source\"])\n",
        "df_cleaned.loc[:, \"New Prospect Source\"] = df_cleaned[\"Opt-In Source\"].apply(New_PS)\n",
        "df_cleaned = df_cleaned.drop(columns=[\"Campaign ID\", \"Campaign Name\", \"Account ID\", \"Account Name\", \"Prospect ID\",\"Job Title\",\"domain\" ,\"Opt-In\",\"Role\",\"Prospect Source\",\"Opt-Out Timestamp\",\"Opt-In Timestamp\",\"Opt-In Source\"])\n",
        "# df_cleaned.fillna(\"Unknown\", inplace=True)\n",
        "# df_cleaned = df_cleaned[df_cleaned[\"Country\"] == \"United States\"]\n",
        "# df_cleaned = df_cleaned.drop(columns=[\"Country\"])\n",
        "df_=df_cleaned.copy()\n",
        "# categorical_cols = [\"Country\"]\n",
        "# df_ = pd.get_dummies(df_cleaned, columns=categorical_cols, drop_first=True)\n",
        "label_encoder = LabelEncoder()\n",
        "df_[\"Season_Filtered\"] = label_encoder.fit_transform(df_[\"Season_Filtered\"])\n",
        "# df_[\"Role\"] = label_encoder.fit_transform(df_[\"Role\"])\n",
        "# df_[\"Prospect Source\"] = label_encoder.fit_transform(df_[\"Prospect Source\"])\n",
        "df_[\"Country\"] = label_encoder.fit_transform(df_[\"Country\"])\n",
        "# df_[\"Opt-In Source\"] = label_encoder.fit_transform(df_[\"Opt-In Source\"])\n",
        "df_[\"New Prospect Source\"] = label_encoder.fit_transform(df_[\"New Prospect Source\"])\n",
        "# df_[\"Country\"] = df_[\"Country\"].apply(lambda x: 1 if x == \"United States\" else 0)\n",
        "# df_[\"Opt-In\"] = label_encoder.fit_transform(df_[\"Opt-In\"])\n",
        "\n",
        "# Not required for now\n",
        "# df_[\"Opt-In Timestamp\"] = pd.to_datetime(df_[\"Opt-In Timestamp\"], errors=\"coerce\")\n",
        "# df_['Month']=df_[\"Opt-In Timestamp\"].dt.month\n",
        "# df_ = df_.drop(columns=[ \"Opt-Out Timestamp\",\"Opt-In Timestamp\"])\n",
        "# df_ = df_.dropna(subset=['Month'])\n",
        "# df_[\"Opt-Out Timestamp\"] = pd.to_datetime(df_[\"Opt-Out Timestamp\"], errors=\"coerce\")\n",
        "#df_[\"time_diff\"] = (df_[\"Opt-Out Timestamp\"] - df_[\"Opt-In Timestamp\"]).dt.total_seconds()\n",
        "#df_[\"time_diff\"].fillna(-1, inplace=True)\n",
        "\n",
        "#Creating the model\n",
        "\n",
        "# Binary Classification\n",
        "# df_[\"Prospect Status\"] = df_[\"Prospect Status\"].apply(lambda x: 1 if x == \"Registered\" else 0)\n",
        "\n",
        "# Multi Class\n",
        "df_[\"Prospect Status\"] = label_encoder.fit_transform(df_[\"Prospect Status\"])\n",
        "\n",
        "\n",
        "df_"
      ],
      "metadata": {
        "colab": {
          "base_uri": "https://localhost:8080/",
          "height": 460
        },
        "id": "Tk05-QKF0iO5",
        "outputId": "cb939a9f-618c-4401-d2cd-9b2a3117d5d1"
      },
      "execution_count": 22,
      "outputs": [
        {
          "output_type": "stream",
          "name": "stderr",
          "text": [
            "<ipython-input-22-15ca03a8cb0e>:8: UserWarning: Could not infer format, so each element will be parsed individually, falling back to `dateutil`. To ensure parsing is consistent and as-expected, please specify a format.\n",
            "  df_cleaned[\"Opt-In Timestamp\"] = pd.to_datetime(df_cleaned[\"Opt-In Timestamp\"], errors=\"coerce\")\n"
          ]
        },
        {
          "output_type": "execute_result",
          "data": {
            "text/plain": [
              "     Prospect Status  Country  Season_Filtered  Month  New Prospect Source\n",
              "0                  1        7                1    6.0                    0\n",
              "10                 1        7                1    6.0                    0\n",
              "11                 1        7                1    7.0                    3\n",
              "13                 1        7                3    3.0                    0\n",
              "14                 1        7                3    9.0                    3\n",
              "..               ...      ...              ...    ...                  ...\n",
              "992                1        3                4    5.0                    0\n",
              "993                2        3                0   11.0                    1\n",
              "994                3        3                3    2.0                    0\n",
              "997                1        3                0    6.0                    1\n",
              "998                1        3                1    8.0                    2\n",
              "\n",
              "[830 rows x 5 columns]"
            ],
            "text/html": [
              "\n",
              "  <div id=\"df-e4af8f47-c965-42d0-b321-c877a1de852f\" class=\"colab-df-container\">\n",
              "    <div>\n",
              "<style scoped>\n",
              "    .dataframe tbody tr th:only-of-type {\n",
              "        vertical-align: middle;\n",
              "    }\n",
              "\n",
              "    .dataframe tbody tr th {\n",
              "        vertical-align: top;\n",
              "    }\n",
              "\n",
              "    .dataframe thead th {\n",
              "        text-align: right;\n",
              "    }\n",
              "</style>\n",
              "<table border=\"1\" class=\"dataframe\">\n",
              "  <thead>\n",
              "    <tr style=\"text-align: right;\">\n",
              "      <th></th>\n",
              "      <th>Prospect Status</th>\n",
              "      <th>Country</th>\n",
              "      <th>Season_Filtered</th>\n",
              "      <th>Month</th>\n",
              "      <th>New Prospect Source</th>\n",
              "    </tr>\n",
              "  </thead>\n",
              "  <tbody>\n",
              "    <tr>\n",
              "      <th>0</th>\n",
              "      <td>1</td>\n",
              "      <td>7</td>\n",
              "      <td>1</td>\n",
              "      <td>6.0</td>\n",
              "      <td>0</td>\n",
              "    </tr>\n",
              "    <tr>\n",
              "      <th>10</th>\n",
              "      <td>1</td>\n",
              "      <td>7</td>\n",
              "      <td>1</td>\n",
              "      <td>6.0</td>\n",
              "      <td>0</td>\n",
              "    </tr>\n",
              "    <tr>\n",
              "      <th>11</th>\n",
              "      <td>1</td>\n",
              "      <td>7</td>\n",
              "      <td>1</td>\n",
              "      <td>7.0</td>\n",
              "      <td>3</td>\n",
              "    </tr>\n",
              "    <tr>\n",
              "      <th>13</th>\n",
              "      <td>1</td>\n",
              "      <td>7</td>\n",
              "      <td>3</td>\n",
              "      <td>3.0</td>\n",
              "      <td>0</td>\n",
              "    </tr>\n",
              "    <tr>\n",
              "      <th>14</th>\n",
              "      <td>1</td>\n",
              "      <td>7</td>\n",
              "      <td>3</td>\n",
              "      <td>9.0</td>\n",
              "      <td>3</td>\n",
              "    </tr>\n",
              "    <tr>\n",
              "      <th>...</th>\n",
              "      <td>...</td>\n",
              "      <td>...</td>\n",
              "      <td>...</td>\n",
              "      <td>...</td>\n",
              "      <td>...</td>\n",
              "    </tr>\n",
              "    <tr>\n",
              "      <th>992</th>\n",
              "      <td>1</td>\n",
              "      <td>3</td>\n",
              "      <td>4</td>\n",
              "      <td>5.0</td>\n",
              "      <td>0</td>\n",
              "    </tr>\n",
              "    <tr>\n",
              "      <th>993</th>\n",
              "      <td>2</td>\n",
              "      <td>3</td>\n",
              "      <td>0</td>\n",
              "      <td>11.0</td>\n",
              "      <td>1</td>\n",
              "    </tr>\n",
              "    <tr>\n",
              "      <th>994</th>\n",
              "      <td>3</td>\n",
              "      <td>3</td>\n",
              "      <td>3</td>\n",
              "      <td>2.0</td>\n",
              "      <td>0</td>\n",
              "    </tr>\n",
              "    <tr>\n",
              "      <th>997</th>\n",
              "      <td>1</td>\n",
              "      <td>3</td>\n",
              "      <td>0</td>\n",
              "      <td>6.0</td>\n",
              "      <td>1</td>\n",
              "    </tr>\n",
              "    <tr>\n",
              "      <th>998</th>\n",
              "      <td>1</td>\n",
              "      <td>3</td>\n",
              "      <td>1</td>\n",
              "      <td>8.0</td>\n",
              "      <td>2</td>\n",
              "    </tr>\n",
              "  </tbody>\n",
              "</table>\n",
              "<p>830 rows × 5 columns</p>\n",
              "</div>\n",
              "    <div class=\"colab-df-buttons\">\n",
              "\n",
              "  <div class=\"colab-df-container\">\n",
              "    <button class=\"colab-df-convert\" onclick=\"convertToInteractive('df-e4af8f47-c965-42d0-b321-c877a1de852f')\"\n",
              "            title=\"Convert this dataframe to an interactive table.\"\n",
              "            style=\"display:none;\">\n",
              "\n",
              "  <svg xmlns=\"http://www.w3.org/2000/svg\" height=\"24px\" viewBox=\"0 -960 960 960\">\n",
              "    <path d=\"M120-120v-720h720v720H120Zm60-500h600v-160H180v160Zm220 220h160v-160H400v160Zm0 220h160v-160H400v160ZM180-400h160v-160H180v160Zm440 0h160v-160H620v160ZM180-180h160v-160H180v160Zm440 0h160v-160H620v160Z\"/>\n",
              "  </svg>\n",
              "    </button>\n",
              "\n",
              "  <style>\n",
              "    .colab-df-container {\n",
              "      display:flex;\n",
              "      gap: 12px;\n",
              "    }\n",
              "\n",
              "    .colab-df-convert {\n",
              "      background-color: #E8F0FE;\n",
              "      border: none;\n",
              "      border-radius: 50%;\n",
              "      cursor: pointer;\n",
              "      display: none;\n",
              "      fill: #1967D2;\n",
              "      height: 32px;\n",
              "      padding: 0 0 0 0;\n",
              "      width: 32px;\n",
              "    }\n",
              "\n",
              "    .colab-df-convert:hover {\n",
              "      background-color: #E2EBFA;\n",
              "      box-shadow: 0px 1px 2px rgba(60, 64, 67, 0.3), 0px 1px 3px 1px rgba(60, 64, 67, 0.15);\n",
              "      fill: #174EA6;\n",
              "    }\n",
              "\n",
              "    .colab-df-buttons div {\n",
              "      margin-bottom: 4px;\n",
              "    }\n",
              "\n",
              "    [theme=dark] .colab-df-convert {\n",
              "      background-color: #3B4455;\n",
              "      fill: #D2E3FC;\n",
              "    }\n",
              "\n",
              "    [theme=dark] .colab-df-convert:hover {\n",
              "      background-color: #434B5C;\n",
              "      box-shadow: 0px 1px 3px 1px rgba(0, 0, 0, 0.15);\n",
              "      filter: drop-shadow(0px 1px 2px rgba(0, 0, 0, 0.3));\n",
              "      fill: #FFFFFF;\n",
              "    }\n",
              "  </style>\n",
              "\n",
              "    <script>\n",
              "      const buttonEl =\n",
              "        document.querySelector('#df-e4af8f47-c965-42d0-b321-c877a1de852f button.colab-df-convert');\n",
              "      buttonEl.style.display =\n",
              "        google.colab.kernel.accessAllowed ? 'block' : 'none';\n",
              "\n",
              "      async function convertToInteractive(key) {\n",
              "        const element = document.querySelector('#df-e4af8f47-c965-42d0-b321-c877a1de852f');\n",
              "        const dataTable =\n",
              "          await google.colab.kernel.invokeFunction('convertToInteractive',\n",
              "                                                    [key], {});\n",
              "        if (!dataTable) return;\n",
              "\n",
              "        const docLinkHtml = 'Like what you see? Visit the ' +\n",
              "          '<a target=\"_blank\" href=https://colab.research.google.com/notebooks/data_table.ipynb>data table notebook</a>'\n",
              "          + ' to learn more about interactive tables.';\n",
              "        element.innerHTML = '';\n",
              "        dataTable['output_type'] = 'display_data';\n",
              "        await google.colab.output.renderOutput(dataTable, element);\n",
              "        const docLink = document.createElement('div');\n",
              "        docLink.innerHTML = docLinkHtml;\n",
              "        element.appendChild(docLink);\n",
              "      }\n",
              "    </script>\n",
              "  </div>\n",
              "\n",
              "\n",
              "<div id=\"df-b85321a6-9820-41e7-a380-c4636aa2bdf2\">\n",
              "  <button class=\"colab-df-quickchart\" onclick=\"quickchart('df-b85321a6-9820-41e7-a380-c4636aa2bdf2')\"\n",
              "            title=\"Suggest charts\"\n",
              "            style=\"display:none;\">\n",
              "\n",
              "<svg xmlns=\"http://www.w3.org/2000/svg\" height=\"24px\"viewBox=\"0 0 24 24\"\n",
              "     width=\"24px\">\n",
              "    <g>\n",
              "        <path d=\"M19 3H5c-1.1 0-2 .9-2 2v14c0 1.1.9 2 2 2h14c1.1 0 2-.9 2-2V5c0-1.1-.9-2-2-2zM9 17H7v-7h2v7zm4 0h-2V7h2v10zm4 0h-2v-4h2v4z\"/>\n",
              "    </g>\n",
              "</svg>\n",
              "  </button>\n",
              "\n",
              "<style>\n",
              "  .colab-df-quickchart {\n",
              "      --bg-color: #E8F0FE;\n",
              "      --fill-color: #1967D2;\n",
              "      --hover-bg-color: #E2EBFA;\n",
              "      --hover-fill-color: #174EA6;\n",
              "      --disabled-fill-color: #AAA;\n",
              "      --disabled-bg-color: #DDD;\n",
              "  }\n",
              "\n",
              "  [theme=dark] .colab-df-quickchart {\n",
              "      --bg-color: #3B4455;\n",
              "      --fill-color: #D2E3FC;\n",
              "      --hover-bg-color: #434B5C;\n",
              "      --hover-fill-color: #FFFFFF;\n",
              "      --disabled-bg-color: #3B4455;\n",
              "      --disabled-fill-color: #666;\n",
              "  }\n",
              "\n",
              "  .colab-df-quickchart {\n",
              "    background-color: var(--bg-color);\n",
              "    border: none;\n",
              "    border-radius: 50%;\n",
              "    cursor: pointer;\n",
              "    display: none;\n",
              "    fill: var(--fill-color);\n",
              "    height: 32px;\n",
              "    padding: 0;\n",
              "    width: 32px;\n",
              "  }\n",
              "\n",
              "  .colab-df-quickchart:hover {\n",
              "    background-color: var(--hover-bg-color);\n",
              "    box-shadow: 0 1px 2px rgba(60, 64, 67, 0.3), 0 1px 3px 1px rgba(60, 64, 67, 0.15);\n",
              "    fill: var(--button-hover-fill-color);\n",
              "  }\n",
              "\n",
              "  .colab-df-quickchart-complete:disabled,\n",
              "  .colab-df-quickchart-complete:disabled:hover {\n",
              "    background-color: var(--disabled-bg-color);\n",
              "    fill: var(--disabled-fill-color);\n",
              "    box-shadow: none;\n",
              "  }\n",
              "\n",
              "  .colab-df-spinner {\n",
              "    border: 2px solid var(--fill-color);\n",
              "    border-color: transparent;\n",
              "    border-bottom-color: var(--fill-color);\n",
              "    animation:\n",
              "      spin 1s steps(1) infinite;\n",
              "  }\n",
              "\n",
              "  @keyframes spin {\n",
              "    0% {\n",
              "      border-color: transparent;\n",
              "      border-bottom-color: var(--fill-color);\n",
              "      border-left-color: var(--fill-color);\n",
              "    }\n",
              "    20% {\n",
              "      border-color: transparent;\n",
              "      border-left-color: var(--fill-color);\n",
              "      border-top-color: var(--fill-color);\n",
              "    }\n",
              "    30% {\n",
              "      border-color: transparent;\n",
              "      border-left-color: var(--fill-color);\n",
              "      border-top-color: var(--fill-color);\n",
              "      border-right-color: var(--fill-color);\n",
              "    }\n",
              "    40% {\n",
              "      border-color: transparent;\n",
              "      border-right-color: var(--fill-color);\n",
              "      border-top-color: var(--fill-color);\n",
              "    }\n",
              "    60% {\n",
              "      border-color: transparent;\n",
              "      border-right-color: var(--fill-color);\n",
              "    }\n",
              "    80% {\n",
              "      border-color: transparent;\n",
              "      border-right-color: var(--fill-color);\n",
              "      border-bottom-color: var(--fill-color);\n",
              "    }\n",
              "    90% {\n",
              "      border-color: transparent;\n",
              "      border-bottom-color: var(--fill-color);\n",
              "    }\n",
              "  }\n",
              "</style>\n",
              "\n",
              "  <script>\n",
              "    async function quickchart(key) {\n",
              "      const quickchartButtonEl =\n",
              "        document.querySelector('#' + key + ' button');\n",
              "      quickchartButtonEl.disabled = true;  // To prevent multiple clicks.\n",
              "      quickchartButtonEl.classList.add('colab-df-spinner');\n",
              "      try {\n",
              "        const charts = await google.colab.kernel.invokeFunction(\n",
              "            'suggestCharts', [key], {});\n",
              "      } catch (error) {\n",
              "        console.error('Error during call to suggestCharts:', error);\n",
              "      }\n",
              "      quickchartButtonEl.classList.remove('colab-df-spinner');\n",
              "      quickchartButtonEl.classList.add('colab-df-quickchart-complete');\n",
              "    }\n",
              "    (() => {\n",
              "      let quickchartButtonEl =\n",
              "        document.querySelector('#df-b85321a6-9820-41e7-a380-c4636aa2bdf2 button');\n",
              "      quickchartButtonEl.style.display =\n",
              "        google.colab.kernel.accessAllowed ? 'block' : 'none';\n",
              "    })();\n",
              "  </script>\n",
              "</div>\n",
              "\n",
              "  <div id=\"id_73e41dca-227f-41b6-b9f8-6660b5fc71ed\">\n",
              "    <style>\n",
              "      .colab-df-generate {\n",
              "        background-color: #E8F0FE;\n",
              "        border: none;\n",
              "        border-radius: 50%;\n",
              "        cursor: pointer;\n",
              "        display: none;\n",
              "        fill: #1967D2;\n",
              "        height: 32px;\n",
              "        padding: 0 0 0 0;\n",
              "        width: 32px;\n",
              "      }\n",
              "\n",
              "      .colab-df-generate:hover {\n",
              "        background-color: #E2EBFA;\n",
              "        box-shadow: 0px 1px 2px rgba(60, 64, 67, 0.3), 0px 1px 3px 1px rgba(60, 64, 67, 0.15);\n",
              "        fill: #174EA6;\n",
              "      }\n",
              "\n",
              "      [theme=dark] .colab-df-generate {\n",
              "        background-color: #3B4455;\n",
              "        fill: #D2E3FC;\n",
              "      }\n",
              "\n",
              "      [theme=dark] .colab-df-generate:hover {\n",
              "        background-color: #434B5C;\n",
              "        box-shadow: 0px 1px 3px 1px rgba(0, 0, 0, 0.15);\n",
              "        filter: drop-shadow(0px 1px 2px rgba(0, 0, 0, 0.3));\n",
              "        fill: #FFFFFF;\n",
              "      }\n",
              "    </style>\n",
              "    <button class=\"colab-df-generate\" onclick=\"generateWithVariable('df_')\"\n",
              "            title=\"Generate code using this dataframe.\"\n",
              "            style=\"display:none;\">\n",
              "\n",
              "  <svg xmlns=\"http://www.w3.org/2000/svg\" height=\"24px\"viewBox=\"0 0 24 24\"\n",
              "       width=\"24px\">\n",
              "    <path d=\"M7,19H8.4L18.45,9,17,7.55,7,17.6ZM5,21V16.75L18.45,3.32a2,2,0,0,1,2.83,0l1.4,1.43a1.91,1.91,0,0,1,.58,1.4,1.91,1.91,0,0,1-.58,1.4L9.25,21ZM18.45,9,17,7.55Zm-12,3A5.31,5.31,0,0,0,4.9,8.1,5.31,5.31,0,0,0,1,6.5,5.31,5.31,0,0,0,4.9,4.9,5.31,5.31,0,0,0,6.5,1,5.31,5.31,0,0,0,8.1,4.9,5.31,5.31,0,0,0,12,6.5,5.46,5.46,0,0,0,6.5,12Z\"/>\n",
              "  </svg>\n",
              "    </button>\n",
              "    <script>\n",
              "      (() => {\n",
              "      const buttonEl =\n",
              "        document.querySelector('#id_73e41dca-227f-41b6-b9f8-6660b5fc71ed button.colab-df-generate');\n",
              "      buttonEl.style.display =\n",
              "        google.colab.kernel.accessAllowed ? 'block' : 'none';\n",
              "\n",
              "      buttonEl.onclick = () => {\n",
              "        google.colab.notebook.generateWithVariable('df_');\n",
              "      }\n",
              "      })();\n",
              "    </script>\n",
              "  </div>\n",
              "\n",
              "    </div>\n",
              "  </div>\n"
            ],
            "application/vnd.google.colaboratory.intrinsic+json": {
              "type": "dataframe",
              "variable_name": "df_",
              "summary": "{\n  \"name\": \"df_\",\n  \"rows\": 830,\n  \"fields\": [\n    {\n      \"column\": \"Prospect Status\",\n      \"properties\": {\n        \"dtype\": \"number\",\n        \"std\": 0,\n        \"min\": 0,\n        \"max\": 3,\n        \"num_unique_values\": 4,\n        \"samples\": [\n          2,\n          0,\n          1\n        ],\n        \"semantic_type\": \"\",\n        \"description\": \"\"\n      }\n    },\n    {\n      \"column\": \"Country\",\n      \"properties\": {\n        \"dtype\": \"number\",\n        \"std\": 4,\n        \"min\": 0,\n        \"max\": 12,\n        \"num_unique_values\": 13,\n        \"samples\": [\n          5,\n          8,\n          7\n        ],\n        \"semantic_type\": \"\",\n        \"description\": \"\"\n      }\n    },\n    {\n      \"column\": \"Season_Filtered\",\n      \"properties\": {\n        \"dtype\": \"number\",\n        \"std\": 1,\n        \"min\": 0,\n        \"max\": 4,\n        \"num_unique_values\": 5,\n        \"samples\": [\n          3,\n          4,\n          2\n        ],\n        \"semantic_type\": \"\",\n        \"description\": \"\"\n      }\n    },\n    {\n      \"column\": \"Month\",\n      \"properties\": {\n        \"dtype\": \"number\",\n        \"std\": 2.8918700184655974,\n        \"min\": 1.0,\n        \"max\": 12.0,\n        \"num_unique_values\": 12,\n        \"samples\": [\n          1.0,\n          2.0,\n          6.0\n        ],\n        \"semantic_type\": \"\",\n        \"description\": \"\"\n      }\n    },\n    {\n      \"column\": \"New Prospect Source\",\n      \"properties\": {\n        \"dtype\": \"number\",\n        \"std\": 1,\n        \"min\": 0,\n        \"max\": 3,\n        \"num_unique_values\": 4,\n        \"samples\": [\n          3,\n          2,\n          0\n        ],\n        \"semantic_type\": \"\",\n        \"description\": \"\"\n      }\n    }\n  ]\n}"
            }
          },
          "metadata": {},
          "execution_count": 22
        }
      ]
    },
    {
      "cell_type": "code",
      "source": [
        "# Print the mapping\n",
        "for category, code in zip(label_encoder.classes_, range(len(label_encoder.classes_))):\n",
        "    print(f\"{category}: {code}\")"
      ],
      "metadata": {
        "colab": {
          "base_uri": "https://localhost:8080/"
        },
        "id": "6rzkB9TN1iXn",
        "outputId": "a6e76b7b-2d6a-4725-8043-065ccd31291e"
      },
      "execution_count": 23,
      "outputs": [
        {
          "output_type": "stream",
          "name": "stdout",
          "text": [
            "Attended: 0\n",
            "No Show: 1\n",
            "Registered: 2\n",
            "Responded: 3\n"
          ]
        }
      ]
    },
    {
      "cell_type": "code",
      "source": [
        "from sklearn.model_selection import train_test_split\n",
        "from sklearn.preprocessing import OneHotEncoder, LabelEncoder\n",
        "from sklearn.ensemble import RandomForestClassifier\n",
        "from sklearn.linear_model import LogisticRegression\n",
        "from sklearn.metrics import accuracy_score, classification_report,confusion_matrix, ConfusionMatrixDisplay\n",
        "import xgboost as xgb\n",
        "from imblearn.over_sampling import SMOTE\n",
        "import matplotlib.pyplot as plt"
      ],
      "metadata": {
        "id": "Nrmz7xI-9kQN"
      },
      "execution_count": 24,
      "outputs": []
    },
    {
      "cell_type": "markdown",
      "source": [
        "**Random Forrest**"
      ],
      "metadata": {
        "id": "9qdyycP__uTN"
      }
    },
    {
      "cell_type": "code",
      "source": [
        "# Split data\n",
        "X = df_.drop(columns=[\"Prospect Status\"])\n",
        "y = df_[\"Prospect Status\"]\n",
        "X_train, X_test, y_train, y_test = train_test_split(X, y, test_size=0.2, random_state=42)\n",
        "\n",
        "# Train Random Forest model\n",
        "model = RandomForestClassifier(n_estimators=100, random_state=42)\n",
        "model.fit(X_train, y_train)\n",
        "\n",
        "# Evaluate model\n",
        "y_pred = model.predict(X_test)\n",
        "print(\"Accuracy:\", accuracy_score(y_test, y_pred))\n",
        "print(classification_report(y_test, y_pred))\n",
        "\n",
        "#Intial Iteration Binary Classification\n",
        "\n",
        "# Accuracy: 0.8586387434554974\n",
        "#               precision    recall  f1-score   support\n",
        "\n",
        "#            0       0.88      0.97      0.92       168\n",
        "#            1       0.17      0.04      0.07        23\n",
        "\n",
        "#     accuracy                           0.86       191\n",
        "#    macro avg       0.52      0.51      0.50       191\n",
        "# weighted avg       0.80      0.86      0.82       191\n",
        "\n",
        "# Initial iteration Multi Class Classification\n",
        "\n",
        "# Accuracy: 0.6073298429319371\n",
        "#               precision    recall  f1-score   support\n",
        "\n",
        "#            0       0.10      0.05      0.06        22\n",
        "#            1       0.66      0.86      0.75       129\n",
        "#            2       0.22      0.09      0.12        23\n",
        "#            3       0.40      0.12      0.18        17\n",
        "\n",
        "#     accuracy                           0.61       191\n",
        "#    macro avg       0.35      0.28      0.28       191\n",
        "# weighted avg       0.52      0.61      0.54       191"
      ],
      "metadata": {
        "colab": {
          "base_uri": "https://localhost:8080/"
        },
        "id": "4glJ9X7q9own",
        "outputId": "14508c16-a815-403c-f9ce-3fc475129476"
      },
      "execution_count": 25,
      "outputs": [
        {
          "output_type": "stream",
          "name": "stdout",
          "text": [
            "Accuracy: 0.5602409638554217\n",
            "              precision    recall  f1-score   support\n",
            "\n",
            "           0       0.00      0.00      0.00        16\n",
            "           1       0.68      0.81      0.74       114\n",
            "           2       0.11      0.04      0.06        23\n",
            "           3       0.00      0.00      0.00        13\n",
            "\n",
            "    accuracy                           0.56       166\n",
            "   macro avg       0.20      0.21      0.20       166\n",
            "weighted avg       0.48      0.56      0.52       166\n",
            "\n"
          ]
        }
      ]
    },
    {
      "cell_type": "code",
      "source": [
        "# Compute the confusion matrix\n",
        "cm = confusion_matrix(y_test, y_pred)\n",
        "\n",
        "# Display the confusion matrix\n",
        "\n",
        "#Binary Search\n",
        "# class_names = [\"Not Registered\", \"Registered\"]\n",
        "# disp = ConfusionMatrixDisplay(confusion_matrix=cm, display_labels=class_names)\n",
        "#Multi Variable\n",
        "disp = ConfusionMatrixDisplay(confusion_matrix=cm, display_labels=label_encoder.classes_)\n",
        "\n",
        "\n",
        "disp.plot(cmap=\"Blues\", values_format=\"d\")\n",
        "plt.title(\"Confusion Matrix - Random Forest\")\n",
        "plt.show()"
      ],
      "metadata": {
        "colab": {
          "base_uri": "https://localhost:8080/",
          "height": 472
        },
        "id": "P6x_o2yfwpFj",
        "outputId": "6b813bc3-9da0-4705-e74e-0ac8ddf853da"
      },
      "execution_count": 26,
      "outputs": [
        {
          "output_type": "display_data",
          "data": {
            "text/plain": [
              "<Figure size 640x480 with 2 Axes>"
            ],
            "image/png": "[encoded data removed]"
          },
          "metadata": {}
        }
      ]
    },
    {
      "cell_type": "code",
      "source": [
        "# Get feature importances from trained model\n",
        "feature_importances = model.feature_importances_\n",
        "\n",
        "# Create a DataFrame to display feature names and their importance\n",
        "feature_importance_df = pd.DataFrame({\n",
        "    \"Feature\": X_train.columns,\n",
        "    \"Importance\": feature_importances\n",
        "})\n",
        "\n",
        "# Sort by importance\n",
        "feature_importance_df = feature_importance_df.sort_values(by=\"Importance\", ascending=False)\n",
        "\n",
        "# Display feature importance\n",
        "print(feature_importance_df)\n",
        "\n",
        "# Intial iteration Binary Classification\n",
        "\n",
        "#            Feature  Importance\n",
        "# 5            Month    0.270779\n",
        "# 0          Country    0.246601\n",
        "# 1    Opt-In Source    0.226691\n",
        "# 3  Season_Filtered    0.144445\n",
        "# 4             Role    0.056092\n",
        "# 2  Prospect Source    0.055391\n",
        "\n",
        "# Intial iteration Multi Class Classification\n",
        "#            Feature  Importance\n",
        "# 5            Month    0.266630\n",
        "# 0          Country    0.255162\n",
        "# 1    Opt-In Source    0.222538\n",
        "# 3  Season_Filtered    0.144650\n",
        "# 4             Role    0.061962\n",
        "# 2  Prospect Source    0.049057"
      ],
      "metadata": {
        "colab": {
          "base_uri": "https://localhost:8080/"
        },
        "id": "3HNnIoFV52k5",
        "outputId": "33f1c2c0-852a-4be3-b613-bc3575ac4c4d"
      },
      "execution_count": 27,
      "outputs": [
        {
          "output_type": "stream",
          "name": "stdout",
          "text": [
            "               Feature  Importance\n",
            "2                Month    0.373129\n",
            "0              Country    0.356130\n",
            "3  New Prospect Source    0.135960\n",
            "1      Season_Filtered    0.134781\n"
          ]
        }
      ]
    },
    {
      "cell_type": "markdown",
      "source": [
        "**K-Folding**"
      ],
      "metadata": {
        "id": "aLtouh5VE_Ja"
      }
    },
    {
      "cell_type": "code",
      "source": [
        "from sklearn.model_selection import StratifiedKFold, cross_val_score, cross_val_predict\n",
        "\n",
        "# Define Stratified K-Fold (Ensures each fold has balanced class distribution)\n",
        "skf = StratifiedKFold(n_splits=5, shuffle=True, random_state=42)\n",
        "\n",
        "# Perform Cross-Validation\n",
        "cv_scores = cross_val_score(model, X, y, cv=skf, scoring=\"accuracy\")\n",
        "\n",
        "# Train and get cross-validated predictions\n",
        "y_pred_kfold = cross_val_predict(model, X, y, cv=skf)\n",
        "\n",
        "\n",
        "# Print results\n",
        "print(f\"Stratified Cross-Validation Scores: {cv_scores}\")\n",
        "print(f\"Mean Accuracy: {cv_scores.mean():.4f}\")\n",
        "print(f\"Standard Deviation: {cv_scores.std():.4f}\")\n",
        "\n",
        "\n",
        "# Print classification report (Precision, Recall, F1-Score)\n",
        "print(classification_report(y, y_pred_kfold))\n",
        "\n",
        "# Generate confusion matrix\n",
        "cm = confusion_matrix(y, y_pred_kfold)\n",
        "\n",
        "# Display confusion matrix\n",
        "disp = ConfusionMatrixDisplay(confusion_matrix=cm, display_labels=label_encoder.classes_)\n",
        "disp.plot(cmap=\"Blues\", values_format=\"d\")\n",
        "plt.title(\"Confusion Matrix - Random Forest with K-Fold\")\n",
        "plt.show()\n",
        "\n",
        "# Iteration Multi Class Classifier\n",
        "# Stratified Cross-Validation Scores: [0.59162304 0.60209424 0.58638743 0.62303665 0.58947368]\n",
        "# Mean Accuracy: 0.5985\n",
        "# Standard Deviation: 0.0133\n",
        "#               precision    recall  f1-score   support\n",
        "\n",
        "#            0       0.07      0.03      0.04       113\n",
        "#            1       0.67      0.87      0.76       633\n",
        "#            2       0.23      0.10      0.14       124\n",
        "#            3       0.14      0.06      0.08        84\n",
        "\n",
        "#     accuracy                           0.60       954\n",
        "#    macro avg       0.28      0.26      0.25       954\n",
        "# weighted avg       0.50      0.60      0.53       954"
      ],
      "metadata": {
        "colab": {
          "base_uri": "https://localhost:8080/",
          "height": 730
        },
        "id": "_ChbQECmFDXP",
        "outputId": "ae227057-ba30-428b-893c-bb6bd4cf7825"
      },
      "execution_count": 28,
      "outputs": [
        {
          "output_type": "stream",
          "name": "stdout",
          "text": [
            "Stratified Cross-Validation Scores: [0.53614458 0.56626506 0.58433735 0.58433735 0.59036145]\n",
            "Mean Accuracy: 0.5723\n",
            "Standard Deviation: 0.0198\n",
            "              precision    recall  f1-score   support\n",
            "\n",
            "           0       0.10      0.05      0.07        99\n",
            "           1       0.66      0.83      0.73       551\n",
            "           2       0.18      0.10      0.13       108\n",
            "           3       0.12      0.04      0.06        72\n",
            "\n",
            "    accuracy                           0.57       830\n",
            "   macro avg       0.26      0.26      0.25       830\n",
            "weighted avg       0.48      0.57      0.52       830\n",
            "\n"
          ]
        },
        {
          "output_type": "display_data",
          "data": {
            "text/plain": [
              "<Figure size 640x480 with 2 Axes>"
            ],
            "image/png": "[encoded data removed]"
          },
          "metadata": {}
        }
      ]
    },
    {
      "cell_type": "code",
      "source": [
        "# Previous model performance (before K-Fold)\n",
        "print(\"Previous Model (Without K-Fold)\")\n",
        "print(classification_report(y_test, y_pred))\n",
        "\n",
        "# K-Fold model performance\n",
        "print(\"K-Fold Model Performance\")\n",
        "print(classification_report(y, y_pred_kfold))"
      ],
      "metadata": {
        "colab": {
          "base_uri": "https://localhost:8080/"
        },
        "id": "dQygNx6fHVZL",
        "outputId": "0286f104-6056-4598-9425-6669069c3b2d"
      },
      "execution_count": 29,
      "outputs": [
        {
          "output_type": "stream",
          "name": "stdout",
          "text": [
            "Previous Model (Without K-Fold)\n",
            "              precision    recall  f1-score   support\n",
            "\n",
            "           0       0.00      0.00      0.00        16\n",
            "           1       0.68      0.81      0.74       114\n",
            "           2       0.11      0.04      0.06        23\n",
            "           3       0.00      0.00      0.00        13\n",
            "\n",
            "    accuracy                           0.56       166\n",
            "   macro avg       0.20      0.21      0.20       166\n",
            "weighted avg       0.48      0.56      0.52       166\n",
            "\n",
            "K-Fold Model Performance\n",
            "              precision    recall  f1-score   support\n",
            "\n",
            "           0       0.10      0.05      0.07        99\n",
            "           1       0.66      0.83      0.73       551\n",
            "           2       0.18      0.10      0.13       108\n",
            "           3       0.12      0.04      0.06        72\n",
            "\n",
            "    accuracy                           0.57       830\n",
            "   macro avg       0.26      0.26      0.25       830\n",
            "weighted avg       0.48      0.57      0.52       830\n",
            "\n"
          ]
        }
      ]
    },
    {
      "cell_type": "markdown",
      "source": [
        "**Statistical Checkings**"
      ],
      "metadata": {
        "id": "sBfulJNsE7Dh"
      }
    },
    {
      "cell_type": "code",
      "source": [
        "def cramers_v(x, y):\n",
        "    \"\"\"Calculates Cramér's V statistic for categorical-categorical association.\"\"\"\n",
        "    confusion_matrix = pd.crosstab(x, y)\n",
        "    chi2 = ss.chi2_contingency(confusion_matrix)[0]\n",
        "    n = confusion_matrix.sum().sum()\n",
        "    r, k = confusion_matrix.shape\n",
        "    return np.sqrt(chi2 / (n * (min(r, k) - 1)))\n",
        "\n",
        "# Apply Cramér's V for all categorical features\n",
        "cramers_results = {col: cramers_v(df_cleaned[col], df_cleaned[\"Prospect Status\"]) for col in X.columns}\n",
        "\n",
        "# Convert to DataFrame and sort by importance\n",
        "cramers_df = pd.DataFrame(cramers_results.items(), columns=[\"Feature\", \"Cramér's V\"])\n",
        "cramers_df = cramers_df.sort_values(by=\"Cramér's V\", ascending=False)\n",
        "print(cramers_df.head(10))  # Show top 10 features"
      ],
      "metadata": {
        "colab": {
          "base_uri": "https://localhost:8080/"
        },
        "id": "HS-WQ4Z3THhs",
        "outputId": "188d3c49-fe53-474e-a2f6-b8c62e5dfc64"
      },
      "execution_count": 30,
      "outputs": [
        {
          "output_type": "stream",
          "name": "stdout",
          "text": [
            "               Feature  Cramér's V\n",
            "0              Country    0.142342\n",
            "1      Season_Filtered    0.102349\n",
            "2                Month    0.086036\n",
            "3  New Prospect Source    0.037239\n"
          ]
        }
      ]
    },
    {
      "cell_type": "code",
      "source": [
        "from sklearn.feature_selection import mutual_info_classif\n",
        "\n",
        "# Compute mutual information scores\n",
        "mi_scores = mutual_info_classif(X, y, discrete_features=True)\n",
        "\n",
        "# Convert to DataFrame\n",
        "mi_df = pd.DataFrame({\"Feature\": X.columns, \"Mutual Information\": mi_scores})\n",
        "mi_df = mi_df.sort_values(by=\"Mutual Information\", ascending=False)\n",
        "\n",
        "print(mi_df.head(10))  # Show top 10 features"
      ],
      "metadata": {
        "colab": {
          "base_uri": "https://localhost:8080/"
        },
        "id": "vx74Z8HFTPFQ",
        "outputId": "51814ca9-7604-4a7e-afc4-d5dae17345dc"
      },
      "execution_count": 31,
      "outputs": [
        {
          "output_type": "stream",
          "name": "stdout",
          "text": [
            "               Feature  Mutual Information\n",
            "0              Country            0.032777\n",
            "1      Season_Filtered            0.017248\n",
            "2                Month            0.011660\n",
            "3  New Prospect Source            0.001949\n"
          ]
        }
      ]
    },
    {
      "cell_type": "code",
      "source": [
        "from sklearn.feature_selection import chi2\n",
        "import pandas as pd\n",
        "\n",
        "# One-hot encode categorical variables\n",
        "X_encoded = pd.get_dummies(X, drop_first=True)\n",
        "\n",
        "# Compute chi-square scores\n",
        "chi_scores, p_values = chi2(X_encoded, y)\n",
        "\n",
        "# Convert to DataFrame for better readability\n",
        "chi2_results = pd.DataFrame({\"Feature\": X_encoded.columns, \"Chi2 Score\": chi_scores, \"p-value\": p_values})\n",
        "\n",
        "# Sort by importance\n",
        "chi2_results = chi2_results.sort_values(by=\"Chi2 Score\", ascending=False)\n",
        "print(chi2_results.head(10))  # Show top 10 most important categorical features"
      ],
      "metadata": {
        "colab": {
          "base_uri": "https://localhost:8080/"
        },
        "id": "9JwCvHNvTo6P",
        "outputId": "75534596-ac1b-4bd3-be6d-1ed285d8c5bf"
      },
      "execution_count": 32,
      "outputs": [
        {
          "output_type": "stream",
          "name": "stdout",
          "text": [
            "               Feature  Chi2 Score   p-value\n",
            "1      Season_Filtered    3.239499  0.356152\n",
            "0              Country    3.131241  0.371830\n",
            "3  New Prospect Source    0.425347  0.934958\n",
            "2                Month    0.202208  0.977232\n"
          ]
        }
      ]
    },
    {
      "cell_type": "markdown",
      "source": [
        "**Adjust Class Weights in the Model**"
      ],
      "metadata": {
        "id": "5RISf5DTArAK"
      }
    },
    {
      "cell_type": "code",
      "source": [
        "model = RandomForestClassifier(n_estimators=100, class_weight={0: 1, 1: 5}, random_state=42)\n",
        "model.fit(X_train, y_train)\n",
        "\n",
        "# Evaluate model\n",
        "y_pred = model.predict(X_test)\n",
        "print(\"Accuracy:\", accuracy_score(y_test, y_pred))\n",
        "print(classification_report(y_test, y_pred))\n"
      ],
      "metadata": {
        "colab": {
          "base_uri": "https://localhost:8080/"
        },
        "id": "YV5YUCzbAt6A",
        "outputId": "9bcc1f0b-32a3-4fed-b3f4-4e40c8d6b715"
      },
      "execution_count": 33,
      "outputs": [
        {
          "output_type": "stream",
          "name": "stdout",
          "text": [
            "Accuracy: 0.5843373493975904\n",
            "              precision    recall  f1-score   support\n",
            "\n",
            "           0       0.00      0.00      0.00        16\n",
            "           1       0.70      0.84      0.76       114\n",
            "           2       0.11      0.04      0.06        23\n",
            "           3       0.00      0.00      0.00        13\n",
            "\n",
            "    accuracy                           0.58       166\n",
            "   macro avg       0.20      0.22      0.21       166\n",
            "weighted avg       0.49      0.58      0.53       166\n",
            "\n"
          ]
        }
      ]
    },
    {
      "cell_type": "code",
      "source": [],
      "metadata": {
        "id": "qoTV9Q3ICAGu"
      },
      "execution_count": 33,
      "outputs": []
    },
    {
      "cell_type": "code",
      "source": [
        "from imblearn.over_sampling import SMOTE\n",
        "from collections import Counter\n",
        "# Split data\n",
        "X = df_.drop(columns=[\"Prospect Status\"])\n",
        "y = df_[\"Prospect Status\"]\n",
        "\n",
        "\n",
        "# Convert all columns to numeric if not already\n",
        "for col in X.columns:\n",
        "    if X[col].dtype == 'bool':\n",
        "        X[col] = X[col].astype(int)\n",
        "    if X[col].dtype == 'object':\n",
        "      try:\n",
        "        X[col]=pd.to_numeric(X[col])\n",
        "      except:\n",
        "        print(f\"Column {col} has values that are non-numeric and could not be converted. SMOTE will fail\")\n",
        "\n",
        "X_train, X_test, y_train, y_test = train_test_split(X, y, test_size=0.2, random_state=42)\n",
        "\n",
        "# For Multi Class Classifier\n",
        "# Determine the desired number of samples per class. We will aim to have at least 100 samples of each\n",
        "target_counts = Counter(y_train)\n",
        "sampling_strategy = {k: max(100, v) for k, v in target_counts.items()}  # Ensure at least 100 samples per class\n",
        "\n",
        "\n",
        "smote = SMOTE(sampling_strategy=sampling_strategy, random_state=42)\n",
        "X_train_balanced, y_train_balanced = smote.fit_resample(X_train, y_train)\n",
        "\n",
        "\n",
        "# Train Random Forest model\n",
        "model = RandomForestClassifier(n_estimators=100, random_state=42)\n",
        "model.fit(X_train_balanced, y_train_balanced)\n",
        "\n",
        "# Evaluate model\n",
        "y_pred = model.predict(X_test)\n",
        "print(\"Accuracy:\", accuracy_score(y_test, y_pred))\n",
        "print(classification_report(y_test, y_pred))"
      ],
      "metadata": {
        "colab": {
          "base_uri": "https://localhost:8080/"
        },
        "id": "aLKfAb6sA5av",
        "outputId": "1a865cfe-2119-402b-9586-9ae46714b3aa"
      },
      "execution_count": 34,
      "outputs": [
        {
          "output_type": "stream",
          "name": "stdout",
          "text": [
            "Accuracy: 0.5421686746987951\n",
            "              precision    recall  f1-score   support\n",
            "\n",
            "           0       0.00      0.00      0.00        16\n",
            "           1       0.67      0.78      0.72       114\n",
            "           2       0.11      0.04      0.06        23\n",
            "           3       0.00      0.00      0.00        13\n",
            "\n",
            "    accuracy                           0.54       166\n",
            "   macro avg       0.20      0.21      0.20       166\n",
            "weighted avg       0.48      0.54      0.51       166\n",
            "\n"
          ]
        }
      ]
    },
    {
      "cell_type": "markdown",
      "source": [
        "**Logistic Regression**\n"
      ],
      "metadata": {
        "id": "7JJLmQA__y7T"
      }
    },
    {
      "cell_type": "code",
      "source": [
        "# Train a logistic regression model\n",
        "log_reg = LogisticRegression(random_state=42)\n",
        "log_reg.fit(X_train, y_train)\n",
        "\n",
        "# Predictions\n",
        "y_pred = log_reg.predict(X_test)\n",
        "\n",
        "# Evaluate\n",
        "print(classification_report(y_test, y_pred))"
      ],
      "metadata": {
        "colab": {
          "base_uri": "https://localhost:8080/"
        },
        "id": "4oTKQJj89sPX",
        "outputId": "f6e3d56f-d863-4570-ebd5-64f873622ed2"
      },
      "execution_count": 35,
      "outputs": [
        {
          "output_type": "stream",
          "name": "stdout",
          "text": [
            "              precision    recall  f1-score   support\n",
            "\n",
            "           0       0.00      0.00      0.00        16\n",
            "           1       0.69      1.00      0.81       114\n",
            "           2       0.00      0.00      0.00        23\n",
            "           3       0.00      0.00      0.00        13\n",
            "\n",
            "    accuracy                           0.69       166\n",
            "   macro avg       0.17      0.25      0.20       166\n",
            "weighted avg       0.47      0.69      0.56       166\n",
            "\n"
          ]
        },
        {
          "output_type": "stream",
          "name": "stderr",
          "text": [
            "/usr/local/lib/python3.11/dist-packages/sklearn/metrics/_classification.py:1565: UndefinedMetricWarning: Precision is ill-defined and being set to 0.0 in labels with no predicted samples. Use `zero_division` parameter to control this behavior.\n",
            "  _warn_prf(average, modifier, f\"{metric.capitalize()} is\", len(result))\n",
            "/usr/local/lib/python3.11/dist-packages/sklearn/metrics/_classification.py:1565: UndefinedMetricWarning: Precision is ill-defined and being set to 0.0 in labels with no predicted samples. Use `zero_division` parameter to control this behavior.\n",
            "  _warn_prf(average, modifier, f\"{metric.capitalize()} is\", len(result))\n",
            "/usr/local/lib/python3.11/dist-packages/sklearn/metrics/_classification.py:1565: UndefinedMetricWarning: Precision is ill-defined and being set to 0.0 in labels with no predicted samples. Use `zero_division` parameter to control this behavior.\n",
            "  _warn_prf(average, modifier, f\"{metric.capitalize()} is\", len(result))\n"
          ]
        }
      ]
    },
    {
      "cell_type": "markdown",
      "source": [
        "**XGBoost**"
      ],
      "metadata": {
        "id": "qC8dPm9koV_p"
      }
    },
    {
      "cell_type": "code",
      "source": [
        "# Split dataset\n",
        "X = df_.drop(columns=[\"Prospect Status\"])\n",
        "y = df_[\"Prospect Status\"]\n",
        "X_train, X_test, y_train, y_test = train_test_split(X, y, test_size=0.2, random_state=42, stratify=y)\n",
        "\n",
        "# Define XGBoost model for multi-class classification\n",
        "xgb_model = xgb.XGBClassifier(objective=\"multi:softmax\", num_class=4, eval_metric=\"mlogloss\", random_state=42)\n",
        "\n",
        "# Train the model\n",
        "xgb_model.fit(X_train, y_train)\n",
        "\n",
        "# Make predictions\n",
        "y_pred_xgb = xgb_model.predict(X_test)\n",
        "\n",
        "# Evaluate model performance\n",
        "print(classification_report(y_test, y_pred_xgb, target_names=label_encoder.classes_))\n"
      ],
      "metadata": {
        "colab": {
          "base_uri": "https://localhost:8080/"
        },
        "id": "GvTHWrhCoZLN",
        "outputId": "5afbc704-cd54-4b85-e39c-1dd4d464e52a"
      },
      "execution_count": 36,
      "outputs": [
        {
          "output_type": "stream",
          "name": "stdout",
          "text": [
            "              precision    recall  f1-score   support\n",
            "\n",
            "    Attended       0.15      0.10      0.12        20\n",
            "     No Show       0.66      0.79      0.72       110\n",
            "  Registered       0.07      0.05      0.05        22\n",
            "   Responded       0.29      0.14      0.19        14\n",
            "\n",
            "    accuracy                           0.55       166\n",
            "   macro avg       0.29      0.27      0.27       166\n",
            "weighted avg       0.49      0.55      0.52       166\n",
            "\n"
          ]
        }
      ]
    },
    {
      "cell_type": "code",
      "source": [
        "# Apply SMOTE to balance the dataset\n",
        "\n",
        "# Convert all columns to numeric if not already\n",
        "for col in X.columns:\n",
        "    if X[col].dtype == 'bool':\n",
        "        X[col] = X[col].astype(int)\n",
        "    if X[col].dtype == 'object':\n",
        "      try:\n",
        "        X[col]=pd.to_numeric(X[col])\n",
        "      except:\n",
        "        print(f\"Column {col} has values that are non-numeric and could not be converted. SMOTE will fail\")\n",
        "\n",
        "X_train, X_test, y_train, y_test = train_test_split(X, y, test_size=0.2, random_state=42)\n",
        "smote = SMOTE(sampling_strategy=\"auto\", random_state=42)\n",
        "X_train_smote, y_train_smote = smote.fit_resample(X_train, y_train)\n",
        "\n",
        "# Train XGBoost on balanced data\n",
        "xgb_smote = xgb.XGBClassifier(objective=\"multi:softmax\", num_class=4, eval_metric=\"mlogloss\", random_state=42)\n",
        "xgb_smote.fit(X_train_smote, y_train_smote)\n",
        "\n",
        "# Make predictions\n",
        "y_pred_smote = xgb_smote.predict(X_test)\n",
        "\n",
        "# Evaluate\n",
        "print(classification_report(y_test, y_pred_smote, target_names=label_encoder.classes_))"
      ],
      "metadata": {
        "colab": {
          "base_uri": "https://localhost:8080/"
        },
        "id": "xYFGnqpRpNsm",
        "outputId": "51a31c57-60ad-4c8c-de7d-247adadfe59b"
      },
      "execution_count": 37,
      "outputs": [
        {
          "output_type": "stream",
          "name": "stdout",
          "text": [
            "              precision    recall  f1-score   support\n",
            "\n",
            "    Attended       0.10      0.12      0.11        16\n",
            "     No Show       0.69      0.67      0.68       114\n",
            "  Registered       0.12      0.09      0.10        23\n",
            "   Responded       0.00      0.00      0.00        13\n",
            "\n",
            "    accuracy                           0.48       166\n",
            "   macro avg       0.23      0.22      0.22       166\n",
            "weighted avg       0.50      0.48      0.49       166\n",
            "\n"
          ]
        }
      ]
    },
    {
      "cell_type": "code",
      "source": [
        "from sklearn.model_selection import GridSearchCV\n",
        "\n",
        "# Define hyperparameter grid\n",
        "param_grid = {\n",
        "    \"max_depth\": [3, 5, 7],\n",
        "    \"learning_rate\": [0.01, 0.1, 0.3],\n",
        "    \"n_estimators\": [50, 100, 200],\n",
        "    \"subsample\": [0.8, 1],\n",
        "}\n",
        "\n",
        "# Perform Grid Search\n",
        "xgb_grid = GridSearchCV(xgb.XGBClassifier(objective=\"multi:softmax\", num_class=4, eval_metric=\"mlogloss\", random_state=42),\n",
        "                         param_grid, cv=3, scoring=\"accuracy\", verbose=2, n_jobs=-1)\n",
        "\n",
        "xgb_grid.fit(X_train_smote, y_train_smote)\n",
        "\n",
        "# Best model\n",
        "best_xgb = xgb_grid.best_estimator_\n",
        "y_pred_best = best_xgb.predict(X_test)\n",
        "\n",
        "# Evaluate\n",
        "print(\"Best Parameters:\", xgb_grid.best_params_)\n",
        "print(classification_report(y_test, y_pred_best, target_names=label_encoder.classes_))"
      ],
      "metadata": {
        "colab": {
          "base_uri": "https://localhost:8080/"
        },
        "id": "bHYYia1Ap1u9",
        "outputId": "f8361cae-f183-4f48-d3dd-4287d6c2babd"
      },
      "execution_count": 38,
      "outputs": [
        {
          "output_type": "stream",
          "name": "stdout",
          "text": [
            "Fitting 3 folds for each of 54 candidates, totalling 162 fits\n",
            "Best Parameters: {'learning_rate': 0.3, 'max_depth': 7, 'n_estimators': 200, 'subsample': 0.8}\n",
            "              precision    recall  f1-score   support\n",
            "\n",
            "    Attended       0.04      0.06      0.05        16\n",
            "     No Show       0.68      0.61      0.64       114\n",
            "  Registered       0.06      0.04      0.05        23\n",
            "   Responded       0.00      0.00      0.00        13\n",
            "\n",
            "    accuracy                           0.43       166\n",
            "   macro avg       0.20      0.18      0.19       166\n",
            "weighted avg       0.48      0.43      0.45       166\n",
            "\n"
          ]
        }
      ]
    }
  ]
}